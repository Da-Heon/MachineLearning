{
 "cells": [
  {
   "cell_type": "markdown",
   "id": "ce426a96-618c-48ec-b87b-841b8a5d0a5d",
   "metadata": {},
   "source": [
    "# 머신러닝 모델 알아보기"
   ]
  },
  {
   "cell_type": "markdown",
   "id": "be772f4c-4d4e-4474-8485-79b5787b143f",
   "metadata": {},
   "source": [
    "## 머신러닝 모델이란"
   ]
  },
  {
   "cell_type": "markdown",
   "id": "ea8e6d54-8879-4a17-8e50-fb9fd9060539",
   "metadata": {},
   "source": [
    "```\n",
    "머신러닝 모델 만들기 = 함수 만들기\n",
    "머신러닝 모델은 함수와 비슷하다. 함수에 값을 입력하면 규칙에 따라 계산한 값을 출력하듯이 머신러닝 모델도 값을 입력하면 정해진 규칙에 따라 계산한 예측값을 출력합니다. 머신러닝 모델이 함수와 다른 점은 만드는 방법입니다. 함수를 만들 때는 사람이 계산 규칙을 정해 입력 해야 하지만 머신러닝 모델을 만들 때는 사람이 계산 규칙을 정하지 않고, 컴퓨터가 데이터에서 패턴을 찾아 스스로 규칙을 정하게 합니다.\n",
    "\n",
    "예를 들어 환자의 정보를 입력하면 당뇨병 발병 여부를 예측하는 모델을 만든다면, 사람이 해야 할 일은 여러 환자의 정보와 당뇨병 발병 여부 데이터를 수집해 머신러닝 알고리즘에 입력하느 것 뿐입니다. 그러면 컴퓨터는 환자의 정보와 당뇨병 발병 간의 패턴을 찾아낸 다음 환자의 정보를 입력하면 당뇨병 발병 여부를 출력하는 모델이 만듭니다. 어떤 사람의 당뇨병 발병 여부를 알고 싶다면 환자의 정보를 모델에 입력하기만 하면 됩니다.\n",
    "\n",
    "예측 변수와 타겟 변수\n",
    "머신러닝 모델을 만들 때 두 종류의 변수를 사용합니다\n",
    "- 예측 변수(predictor variable): 예측하는 데 활용하는 변수 또는 모델에 입력하는 값을 예측하는 변수\n",
    "- 타겟 변수(target variable): 예측하고자 하는 변수 또는 모델이 출력하는 값을 타겟 변수라 합니다\n",
    "\n",
    "만약 환자의 성별, 나이, 흡연 여부, 음주 여부로 당뇨병 발병을 예측하는 모델을 만든다면 성별, 나이, 흡연 여부, 음주 여부는 예측 변수로 사용하고, 당뇨병 발병 여부는 타겟 변수라 합니다.\n",
    "\n",
    "머신러닝 모델을 이용해 미래 예측하기\n",
    "머신러닝 모델은 미래의 값을 예측하는 용도로 자주 사용됩니다. 과거의 값을 예측 변수로 사용하고 미래의 값을 타겟 변수로 사용하면 미래를 예측하는 모델을 만들 수 있습니다. 예를 들어 현재 환자의 신체 정보를 입력하면 3년 뒤의 당뇨병 발병 여부를 예측하는 모델을 만들 수 있습니다.\n",
    "머신러닝 모델은 다양한 사업 영역에사 미래를 예측하는 데 활용됩니다. 온라인 커머스는 고객이 구매할 가능성이 높은 상품을 예측해 추천하고, 마케팅사는 서비스에 가입할 가능성이 높은 이용자를 예측해 홍보 전화를 합니다. 금융사는 고객이 대출금을 제때 상환할지 예측해 가입 승인 여부를 결정하고, 반도체 공장은설비 공고장을 예측해 설비가 고장 나기 전에 정비합니다. 미래를 예측하면 부가 수익을 창출하고, 비용을 줄일 수 있으므로, 머신러닝은 여러 분야에서 주목받고 있습니다. \n",
    "```"
   ]
  },
  {
   "cell_type": "markdown",
   "id": "2d2023d7-b896-4aa5-bdc9-c152e0bc187c",
   "metadata": {},
   "source": [
    "## 의사결정 나무 모델"
   ]
  },
  {
   "cell_type": "markdown",
   "id": "7d6e129a-2fcf-4da1-9bce-9532b5cd970a",
   "metadata": {},
   "source": [
    "```\n",
    "머신러닝 모델은 종류가 다양하고 새로운 알고리즘이 끊임없이 개발되고 있습니다. 그 중에서 의사결정나무 모델은 구조가 단순하고\n",
    "작동 원리를 이해하기 쉬워 여러 분야에 사용되고 있습니다. 규모가 크고 복잡한 모델도 의사결정나무 모델에 기반을 두고 만들 때가 많습니다.\n",
    "\n",
    "의사결정나무 모델이란?\n",
    "마치 스무고개 놀이처럼 주어진 질문에 yes/no로 답하면 마지막에 결론을 얻는 구조로 되어 있습니다.\n",
    "질문이 나열된 모양이 가지를 뻗은 나무와 비슷하고, 예측값을 무엇으로 할지 의사 결정해 주기 때문에 의사결정나무라는 이름을 가지고 있습니다.\n",
    "\n",
    "    \n",
    "의사결정나무 모델을 이용해 예측하기\n",
    "의사결정나무 모델을 만들면 yes/no로 답할 수 있는 질문 목륵을 갖게 됩니다. 새 데이터가 주어졌을 떄 질문 목록에 따라 순서대로 답을 하면 최종적으로 둘 중 한가지\n",
    "값을 부여받게 됩니다. 예를 들어 환자의 나이, 흡연 여부,음주 여부로 당뇨병 발병 여부를 예측하는 모델을 만들었다고 해보겠습니다\n",
    "\n",
    "새로 온 환자 A는 나이가 45세이고 음주는 하지 않았습니다. 모델의 첫 번째 질문은 나이가 40세 이하인가?입니다. 이 질문에 A의 대답은 NO이므로 오른쪽 가지를 타고 내려갑니다\n",
    "두 번쨰로 마주한 질문은 음주 여부에 A의 대답은 NO이므로 이번에도 오른쪽 가지를 타고 내려갑니다. 최종적으로 환자 A는 정상으로 예측합니다\n",
    "\n",
    "두 번쨰 환자 B는 나이가 30세이고 흡연을 합니다. B는 40세 이하이니 첫 번째 질문의 대답은 YES이므로 왼쪽 가지를 타고 내려갑니다\n",
    "두 번째로 마주한 질문 흡연 여부의 대답은 YES이므로 왼쪽 가지를 타고 내려갑니다. 최종적으로 환자 B는 발병으로 예측합니다.\n",
    "이처럼 데이터에 모델의 질문에 답할 수 있는 값만 있으면 발병/정상 둘 중 한 가지로 예측값을 부여받게 됩니다.\n",
    "\n",
    "\n",
    "의사결정나무 모델이 만들어지는 원리\n",
    "다음과 같이 4가지 예측 변수로 당뇨병 발병 여부를 예측하는 모델을 만든다고 가정하고 모델이 만들어지는 과정을 단계별로 살펴보겠습니다\n",
    "- 예측 변수 : 흡연 여부, 음주 여부, 나이, 성별\n",
    "- 타겟 변수 : 당뇨병 발병 여부\n",
    "\n",
    "1단계 : 타겟변수를 가장 잘 분리하는 예측변수 분리하기\n",
    "의사결정나무 모델은 어떤 순서로 어떤 질문을 할 지 정하는 과정을 거쳐 만들어집니다. 가장 먼저 첫 번쨰 질문을 할 때 에측 변수 중에서 무엇을 사용할지 정합니다.\n",
    "의사결정나무 알고리즘은 타겟 변수를 가장 잘 분리해 주는 예측 변수를 찾아 첫 번째 질문으로 삼습니다. 예측 변수가 타겟 변수를 분리해 주는 정도는 다음 걸차로 알 수 있습니다.\n",
    "\n",
    "1. 모든 예측 변수를 YES/NO로 답할 수 있는 질문으로 만듭니다. 흡연여부는 흡연을 하십니까?, 음주여부는 음주를 하십니까?, 성별으 남자입니까? 또는 여자입니까?의 형태로 만듭니다.\n",
    "2. 모델을 만드는데 사용할 데이터를 앞에서 만든 각각의 질문에 대임한 다음 YES로 답한 데이터만 추출합니다.\n",
    "3. 추출한 데이터 중 발병인과 정상인의 비율을 구합니다. 발병인과 정상인의 비울 차이가 크면 클수록 예측 변수가 타겟 변수를 잘 분리해낸다고 볼 수 있습니다.\n",
    "\n",
    "나이와 같은 연속 변수는 그렇지 않습니다. 연속 변수는 나이가 몇세 이하인가요?의 형태로 질문들 만들어야 YES/NO로 답할 수 있습니다. 이 때 몇 세를 기준으로 질문할지\n",
    "정해야 합니다. 타겟 변수를 가장 잘 분리해 주는 기준 나이를 알아내려면 가능한 모든 경우의 수대로 질문 후보를 만들어 비교해야 합니다.\n",
    "\n",
    "이처럼 모든 변수로 질문을 만든 다음 타겟 변수를 가장 잘 분리해 주는 변수를 찾아 첫 번째 질문에 사용합니다.\n",
    "\n",
    "2단계는 첫 번째 질문의 답변에 따라 ㅔ이터를 두 노트로 분할합니다.\n",
    "질문의 답변이 같아서 함께 분류된 집단을 노트라고 합니다. 노드의 의사결정나무 도식에 사각형으로 표현됩니다.\n",
    "전체 데이터를 첫 번째 질문의 답변에 따라 서로 다른 노드로 보냅니다. 앞의 예에서는 흡연 여부의 답변이 yes면 왼쪽 노드, no면 오른족 노드로 보내면 됩니다.\n",
    "\n",
    "3단계는 각 노드에서 타겟 변수를 가장 잘 분리하는 예측 변수를 선택합니다.\n",
    "각 노드에서 타겟 변수를 가장 잘 분리해 주는 예측 변수를 선택합니다. 1단계 작업을 노드별로 반복하는 것입니다. 흡연 여부는 이미 사용했으니\n",
    "제외하고 나머지 변수 중에서 타겟 변수를 가장 잘 분리해 주는 두 번째 변수를 찾으면 됩니다.\n",
    "\n",
    "4단계는 노드가 완벽하게 분리될 때까지 반복합니다.\n",
    "\n",
    "의사결정나무 모델의 특징\n",
    "- 노드마다 분할 횟수가 다르다 : 예측 변수를 선택하고 노드를 분할하는 횟수가 노드마다 다르므로, 가지가 뻗어 나간 횟수도 노드마다 제각각입니다. 어떤 노드는 다섯 번\n",
    "분할해야 한 범주만 남지만 어떤 노드는 두 번만에 한 범주만 남을 수 있습니다. 따라서 모든 사람에게 같은 횟수로 질문하는게 아니라 앞의 질문에 어떻게 답변했는지\n",
    "에 따라 서로 다른 횟수로 질문하게 됩니다.\n",
    "\n",
    "- 노드마다 선택되는 예측 변수가 다르다 : 예측 변수 선택 작업을 노드별로 따로 하므로 노드마다 선택되는 변수가 다릅니다.\n",
    "예를 들어 흡연자에게는 음주 여부가, 비흡연자에게는 나이가 테겟 변수를 가장 잘 분리해주는 예측 변수일 수 있습니다.\n",
    "따라서 모든 사람에게 일괄적으로 같은 질문을 하는게 아니라 앞의 질문에 어떻게 답변했는지에 따라 서로 다른 질문을 하게 됩니다.\n",
    "\n",
    "- 어떤 예측 변수는 모델에서 탈락합니다\n",
    "노드를 분할하는 과정에서 한 번도 선택되지 않아 모델에서 탈락할 수 있습니다. 예를 들어 당뇨병 발병 예측 모델을 만들 때\n",
    "발 크기 변수는 타겟 벼수를 분리해 주는 정도가 다른 변수보다 항상 떨어져서 분할을 종료할 때까지 한번도 선택되지 않을 수 있습니다. 따라서 데이터에 들어 있는 모든 변수를\n",
    "예측에 사용하는 게 아니라 일부는 사용하고 일부는 제외하게 됩니다.\n",
    "```"
   ]
  },
  {
   "cell_type": "markdown",
   "id": "8550f8e1-ff0c-4154-ac20-f1d050ad8091",
   "metadata": {},
   "source": [
    "# 소득 예측 모델 만들기"
   ]
  },
  {
   "cell_type": "code",
   "execution_count": 44,
   "id": "2eb336aa-a854-4915-99c4-3495418577f8",
   "metadata": {},
   "outputs": [
    {
     "data": {
      "text/html": [
       "<div>\n",
       "<style scoped>\n",
       "    .dataframe tbody tr th:only-of-type {\n",
       "        vertical-align: middle;\n",
       "    }\n",
       "\n",
       "    .dataframe tbody tr th {\n",
       "        vertical-align: top;\n",
       "    }\n",
       "\n",
       "    .dataframe thead th {\n",
       "        text-align: right;\n",
       "    }\n",
       "</style>\n",
       "<table border=\"1\" class=\"dataframe\">\n",
       "  <thead>\n",
       "    <tr style=\"text-align: right;\">\n",
       "      <th></th>\n",
       "      <th>age</th>\n",
       "      <th>workclass</th>\n",
       "      <th>fnlwgt</th>\n",
       "      <th>education</th>\n",
       "      <th>education_num</th>\n",
       "      <th>marital_status</th>\n",
       "      <th>occupation</th>\n",
       "      <th>relationship</th>\n",
       "      <th>race</th>\n",
       "      <th>sex</th>\n",
       "      <th>capital_gain</th>\n",
       "      <th>capital_loss</th>\n",
       "      <th>hours_per_week</th>\n",
       "      <th>native_country</th>\n",
       "      <th>income</th>\n",
       "    </tr>\n",
       "  </thead>\n",
       "  <tbody>\n",
       "    <tr>\n",
       "      <th>0</th>\n",
       "      <td>25</td>\n",
       "      <td>Private</td>\n",
       "      <td>226802</td>\n",
       "      <td>11th</td>\n",
       "      <td>7</td>\n",
       "      <td>Never-married</td>\n",
       "      <td>Machine-op-inspct</td>\n",
       "      <td>Own-child</td>\n",
       "      <td>Black</td>\n",
       "      <td>Male</td>\n",
       "      <td>0</td>\n",
       "      <td>0</td>\n",
       "      <td>40</td>\n",
       "      <td>United-States</td>\n",
       "      <td>&lt;=50K</td>\n",
       "    </tr>\n",
       "    <tr>\n",
       "      <th>1</th>\n",
       "      <td>38</td>\n",
       "      <td>Private</td>\n",
       "      <td>89814</td>\n",
       "      <td>HS-grad</td>\n",
       "      <td>9</td>\n",
       "      <td>Married-civ-spouse</td>\n",
       "      <td>Farming-fishing</td>\n",
       "      <td>Husband</td>\n",
       "      <td>White</td>\n",
       "      <td>Male</td>\n",
       "      <td>0</td>\n",
       "      <td>0</td>\n",
       "      <td>50</td>\n",
       "      <td>United-States</td>\n",
       "      <td>&lt;=50K</td>\n",
       "    </tr>\n",
       "    <tr>\n",
       "      <th>2</th>\n",
       "      <td>28</td>\n",
       "      <td>Local-gov</td>\n",
       "      <td>336951</td>\n",
       "      <td>Assoc-acdm</td>\n",
       "      <td>12</td>\n",
       "      <td>Married-civ-spouse</td>\n",
       "      <td>Protective-serv</td>\n",
       "      <td>Husband</td>\n",
       "      <td>White</td>\n",
       "      <td>Male</td>\n",
       "      <td>0</td>\n",
       "      <td>0</td>\n",
       "      <td>40</td>\n",
       "      <td>United-States</td>\n",
       "      <td>&gt;50K</td>\n",
       "    </tr>\n",
       "    <tr>\n",
       "      <th>3</th>\n",
       "      <td>44</td>\n",
       "      <td>Private</td>\n",
       "      <td>160323</td>\n",
       "      <td>Some-college</td>\n",
       "      <td>10</td>\n",
       "      <td>Married-civ-spouse</td>\n",
       "      <td>Machine-op-inspct</td>\n",
       "      <td>Husband</td>\n",
       "      <td>Black</td>\n",
       "      <td>Male</td>\n",
       "      <td>7688</td>\n",
       "      <td>0</td>\n",
       "      <td>40</td>\n",
       "      <td>United-States</td>\n",
       "      <td>&gt;50K</td>\n",
       "    </tr>\n",
       "    <tr>\n",
       "      <th>4</th>\n",
       "      <td>18</td>\n",
       "      <td>?</td>\n",
       "      <td>103497</td>\n",
       "      <td>Some-college</td>\n",
       "      <td>10</td>\n",
       "      <td>Never-married</td>\n",
       "      <td>?</td>\n",
       "      <td>Own-child</td>\n",
       "      <td>White</td>\n",
       "      <td>Female</td>\n",
       "      <td>0</td>\n",
       "      <td>0</td>\n",
       "      <td>30</td>\n",
       "      <td>United-States</td>\n",
       "      <td>&lt;=50K</td>\n",
       "    </tr>\n",
       "    <tr>\n",
       "      <th>...</th>\n",
       "      <td>...</td>\n",
       "      <td>...</td>\n",
       "      <td>...</td>\n",
       "      <td>...</td>\n",
       "      <td>...</td>\n",
       "      <td>...</td>\n",
       "      <td>...</td>\n",
       "      <td>...</td>\n",
       "      <td>...</td>\n",
       "      <td>...</td>\n",
       "      <td>...</td>\n",
       "      <td>...</td>\n",
       "      <td>...</td>\n",
       "      <td>...</td>\n",
       "      <td>...</td>\n",
       "    </tr>\n",
       "    <tr>\n",
       "      <th>48837</th>\n",
       "      <td>27</td>\n",
       "      <td>Private</td>\n",
       "      <td>257302</td>\n",
       "      <td>Assoc-acdm</td>\n",
       "      <td>12</td>\n",
       "      <td>Married-civ-spouse</td>\n",
       "      <td>Tech-support</td>\n",
       "      <td>Wife</td>\n",
       "      <td>White</td>\n",
       "      <td>Female</td>\n",
       "      <td>0</td>\n",
       "      <td>0</td>\n",
       "      <td>38</td>\n",
       "      <td>United-States</td>\n",
       "      <td>&lt;=50K</td>\n",
       "    </tr>\n",
       "    <tr>\n",
       "      <th>48838</th>\n",
       "      <td>40</td>\n",
       "      <td>Private</td>\n",
       "      <td>154374</td>\n",
       "      <td>HS-grad</td>\n",
       "      <td>9</td>\n",
       "      <td>Married-civ-spouse</td>\n",
       "      <td>Machine-op-inspct</td>\n",
       "      <td>Husband</td>\n",
       "      <td>White</td>\n",
       "      <td>Male</td>\n",
       "      <td>0</td>\n",
       "      <td>0</td>\n",
       "      <td>40</td>\n",
       "      <td>United-States</td>\n",
       "      <td>&gt;50K</td>\n",
       "    </tr>\n",
       "    <tr>\n",
       "      <th>48839</th>\n",
       "      <td>58</td>\n",
       "      <td>Private</td>\n",
       "      <td>151910</td>\n",
       "      <td>HS-grad</td>\n",
       "      <td>9</td>\n",
       "      <td>Widowed</td>\n",
       "      <td>Adm-clerical</td>\n",
       "      <td>Unmarried</td>\n",
       "      <td>White</td>\n",
       "      <td>Female</td>\n",
       "      <td>0</td>\n",
       "      <td>0</td>\n",
       "      <td>40</td>\n",
       "      <td>United-States</td>\n",
       "      <td>&lt;=50K</td>\n",
       "    </tr>\n",
       "    <tr>\n",
       "      <th>48840</th>\n",
       "      <td>22</td>\n",
       "      <td>Private</td>\n",
       "      <td>201490</td>\n",
       "      <td>HS-grad</td>\n",
       "      <td>9</td>\n",
       "      <td>Never-married</td>\n",
       "      <td>Adm-clerical</td>\n",
       "      <td>Own-child</td>\n",
       "      <td>White</td>\n",
       "      <td>Male</td>\n",
       "      <td>0</td>\n",
       "      <td>0</td>\n",
       "      <td>20</td>\n",
       "      <td>United-States</td>\n",
       "      <td>&lt;=50K</td>\n",
       "    </tr>\n",
       "    <tr>\n",
       "      <th>48841</th>\n",
       "      <td>52</td>\n",
       "      <td>Self-emp-inc</td>\n",
       "      <td>287927</td>\n",
       "      <td>HS-grad</td>\n",
       "      <td>9</td>\n",
       "      <td>Married-civ-spouse</td>\n",
       "      <td>Exec-managerial</td>\n",
       "      <td>Wife</td>\n",
       "      <td>White</td>\n",
       "      <td>Female</td>\n",
       "      <td>15024</td>\n",
       "      <td>0</td>\n",
       "      <td>40</td>\n",
       "      <td>United-States</td>\n",
       "      <td>&gt;50K</td>\n",
       "    </tr>\n",
       "  </tbody>\n",
       "</table>\n",
       "<p>48842 rows × 15 columns</p>\n",
       "</div>"
      ],
      "text/plain": [
       "       age     workclass  fnlwgt     education  education_num  \\\n",
       "0       25       Private  226802          11th              7   \n",
       "1       38       Private   89814       HS-grad              9   \n",
       "2       28     Local-gov  336951    Assoc-acdm             12   \n",
       "3       44       Private  160323  Some-college             10   \n",
       "4       18             ?  103497  Some-college             10   \n",
       "...    ...           ...     ...           ...            ...   \n",
       "48837   27       Private  257302    Assoc-acdm             12   \n",
       "48838   40       Private  154374       HS-grad              9   \n",
       "48839   58       Private  151910       HS-grad              9   \n",
       "48840   22       Private  201490       HS-grad              9   \n",
       "48841   52  Self-emp-inc  287927       HS-grad              9   \n",
       "\n",
       "           marital_status         occupation relationship   race     sex  \\\n",
       "0           Never-married  Machine-op-inspct    Own-child  Black    Male   \n",
       "1      Married-civ-spouse    Farming-fishing      Husband  White    Male   \n",
       "2      Married-civ-spouse    Protective-serv      Husband  White    Male   \n",
       "3      Married-civ-spouse  Machine-op-inspct      Husband  Black    Male   \n",
       "4           Never-married                  ?    Own-child  White  Female   \n",
       "...                   ...                ...          ...    ...     ...   \n",
       "48837  Married-civ-spouse       Tech-support         Wife  White  Female   \n",
       "48838  Married-civ-spouse  Machine-op-inspct      Husband  White    Male   \n",
       "48839             Widowed       Adm-clerical    Unmarried  White  Female   \n",
       "48840       Never-married       Adm-clerical    Own-child  White    Male   \n",
       "48841  Married-civ-spouse    Exec-managerial         Wife  White  Female   \n",
       "\n",
       "       capital_gain  capital_loss  hours_per_week native_country income  \n",
       "0                 0             0              40  United-States  <=50K  \n",
       "1                 0             0              50  United-States  <=50K  \n",
       "2                 0             0              40  United-States   >50K  \n",
       "3              7688             0              40  United-States   >50K  \n",
       "4                 0             0              30  United-States  <=50K  \n",
       "...             ...           ...             ...            ...    ...  \n",
       "48837             0             0              38  United-States  <=50K  \n",
       "48838             0             0              40  United-States   >50K  \n",
       "48839             0             0              40  United-States  <=50K  \n",
       "48840             0             0              20  United-States  <=50K  \n",
       "48841         15024             0              40  United-States   >50K  \n",
       "\n",
       "[48842 rows x 15 columns]"
      ]
     },
     "execution_count": 44,
     "metadata": {},
     "output_type": "execute_result"
    }
   ],
   "source": [
    "import pandas as pd\n",
    "\n",
    "df = pd.read_csv('adult.csv')\n",
    "df"
   ]
  },
  {
   "cell_type": "markdown",
   "id": "aa7507c7-0a8c-4215-9d2f-466901a20f28",
   "metadata": {},
   "source": [
    "- 15개의 변수로 구성\n",
    "- 이 중 연소득을 나타낸 income을 타겟 변수, 나머지 14개를 예측 변수로 사용하겠습니다."
   ]
  },
  {
   "cell_type": "markdown",
   "id": "0427f625-1c00-4f32-a3ed-30a37d76b372",
   "metadata": {},
   "source": [
    "- 소득 예측 모델은 어디에 활용할까?\n",
    "    - 고가 상품 구매 프로모션\n",
    "    - 저소득츠 지원 대상 확대"
   ]
  },
  {
   "cell_type": "markdown",
   "id": "6c497483-1875-4f8a-9cd3-634e62834e56",
   "metadata": {},
   "source": [
    "## 전처리 하기"
   ]
  },
  {
   "cell_type": "markdown",
   "id": "43cdefaa-3c66-4112-9e7a-be22800d5437",
   "metadata": {},
   "source": [
    "- 모델을 만드는데 적합하도록 데이터를 가공하자"
   ]
  },
  {
   "cell_type": "markdown",
   "id": "a6356d99-e5e8-4de7-9b31-feb6b6de7526",
   "metadata": {},
   "source": [
    "### 1. 타겟변수 전처리"
   ]
  },
  {
   "cell_type": "markdown",
   "id": "59cb8cf4-25e0-4702-b525-d38172318cb3",
   "metadata": {},
   "source": [
    "- 변수에 특수문자가 있으면 다르기 불편하므로, 5만 달러를 초과하면 high, 그렇지 않으면 low로 값을 나타내는 컬럼을 만들자"
   ]
  },
  {
   "cell_type": "code",
   "execution_count": 45,
   "id": "e0db0df2-212b-4e45-b040-b151b97ccaaa",
   "metadata": {},
   "outputs": [
    {
     "data": {
      "text/plain": [
       "income\n",
       "low     0.760718\n",
       "high    0.239282\n",
       "Name: proportion, dtype: float64"
      ]
     },
     "execution_count": 45,
     "metadata": {},
     "output_type": "execute_result"
    }
   ],
   "source": [
    "import numpy as np\n",
    "\n",
    "df['income'] = np.where(\n",
    "    df['income'] == '>50K', 'high', 'low'\n",
    ")\n",
    "df['income'].value_counts(normalize=True)"
   ]
  },
  {
   "cell_type": "markdown",
   "id": "8a1b3bdf-ea57-428f-a3a4-eef4ee1b6681",
   "metadata": {},
   "source": [
    "- income은 조사 응답자의 연소득이 5만달러를 초과하는지 여부를 알고 그 비율을 알아보자"
   ]
  },
  {
   "cell_type": "code",
   "execution_count": 46,
   "id": "22e80bb4-b273-4f4b-ad89-2495c9d97b3b",
   "metadata": {},
   "outputs": [
    {
     "data": {
      "text/html": [
       "<div>\n",
       "<style scoped>\n",
       "    .dataframe tbody tr th:only-of-type {\n",
       "        vertical-align: middle;\n",
       "    }\n",
       "\n",
       "    .dataframe tbody tr th {\n",
       "        vertical-align: top;\n",
       "    }\n",
       "\n",
       "    .dataframe thead th {\n",
       "        text-align: right;\n",
       "    }\n",
       "</style>\n",
       "<table border=\"1\" class=\"dataframe\">\n",
       "  <thead>\n",
       "    <tr style=\"text-align: right;\">\n",
       "      <th></th>\n",
       "      <th>age</th>\n",
       "      <th>workclass</th>\n",
       "      <th>fnlwgt</th>\n",
       "      <th>education</th>\n",
       "      <th>education_num</th>\n",
       "      <th>marital_status</th>\n",
       "      <th>occupation</th>\n",
       "      <th>relationship</th>\n",
       "      <th>race</th>\n",
       "      <th>sex</th>\n",
       "      <th>capital_gain</th>\n",
       "      <th>capital_loss</th>\n",
       "      <th>hours_per_week</th>\n",
       "      <th>native_country</th>\n",
       "      <th>income</th>\n",
       "    </tr>\n",
       "  </thead>\n",
       "  <tbody>\n",
       "    <tr>\n",
       "      <th>0</th>\n",
       "      <td>25</td>\n",
       "      <td>Private</td>\n",
       "      <td>226802</td>\n",
       "      <td>11th</td>\n",
       "      <td>7</td>\n",
       "      <td>Never-married</td>\n",
       "      <td>Machine-op-inspct</td>\n",
       "      <td>Own-child</td>\n",
       "      <td>Black</td>\n",
       "      <td>Male</td>\n",
       "      <td>0</td>\n",
       "      <td>0</td>\n",
       "      <td>40</td>\n",
       "      <td>United-States</td>\n",
       "      <td>low</td>\n",
       "    </tr>\n",
       "    <tr>\n",
       "      <th>1</th>\n",
       "      <td>38</td>\n",
       "      <td>Private</td>\n",
       "      <td>89814</td>\n",
       "      <td>HS-grad</td>\n",
       "      <td>9</td>\n",
       "      <td>Married-civ-spouse</td>\n",
       "      <td>Farming-fishing</td>\n",
       "      <td>Husband</td>\n",
       "      <td>White</td>\n",
       "      <td>Male</td>\n",
       "      <td>0</td>\n",
       "      <td>0</td>\n",
       "      <td>50</td>\n",
       "      <td>United-States</td>\n",
       "      <td>low</td>\n",
       "    </tr>\n",
       "    <tr>\n",
       "      <th>2</th>\n",
       "      <td>28</td>\n",
       "      <td>Local-gov</td>\n",
       "      <td>336951</td>\n",
       "      <td>Assoc-acdm</td>\n",
       "      <td>12</td>\n",
       "      <td>Married-civ-spouse</td>\n",
       "      <td>Protective-serv</td>\n",
       "      <td>Husband</td>\n",
       "      <td>White</td>\n",
       "      <td>Male</td>\n",
       "      <td>0</td>\n",
       "      <td>0</td>\n",
       "      <td>40</td>\n",
       "      <td>United-States</td>\n",
       "      <td>high</td>\n",
       "    </tr>\n",
       "    <tr>\n",
       "      <th>3</th>\n",
       "      <td>44</td>\n",
       "      <td>Private</td>\n",
       "      <td>160323</td>\n",
       "      <td>Some-college</td>\n",
       "      <td>10</td>\n",
       "      <td>Married-civ-spouse</td>\n",
       "      <td>Machine-op-inspct</td>\n",
       "      <td>Husband</td>\n",
       "      <td>Black</td>\n",
       "      <td>Male</td>\n",
       "      <td>7688</td>\n",
       "      <td>0</td>\n",
       "      <td>40</td>\n",
       "      <td>United-States</td>\n",
       "      <td>high</td>\n",
       "    </tr>\n",
       "    <tr>\n",
       "      <th>4</th>\n",
       "      <td>18</td>\n",
       "      <td>?</td>\n",
       "      <td>103497</td>\n",
       "      <td>Some-college</td>\n",
       "      <td>10</td>\n",
       "      <td>Never-married</td>\n",
       "      <td>?</td>\n",
       "      <td>Own-child</td>\n",
       "      <td>White</td>\n",
       "      <td>Female</td>\n",
       "      <td>0</td>\n",
       "      <td>0</td>\n",
       "      <td>30</td>\n",
       "      <td>United-States</td>\n",
       "      <td>low</td>\n",
       "    </tr>\n",
       "  </tbody>\n",
       "</table>\n",
       "</div>"
      ],
      "text/plain": [
       "   age  workclass  fnlwgt     education  education_num      marital_status  \\\n",
       "0   25    Private  226802          11th              7       Never-married   \n",
       "1   38    Private   89814       HS-grad              9  Married-civ-spouse   \n",
       "2   28  Local-gov  336951    Assoc-acdm             12  Married-civ-spouse   \n",
       "3   44    Private  160323  Some-college             10  Married-civ-spouse   \n",
       "4   18          ?  103497  Some-college             10       Never-married   \n",
       "\n",
       "          occupation relationship   race     sex  capital_gain  capital_loss  \\\n",
       "0  Machine-op-inspct    Own-child  Black    Male             0             0   \n",
       "1    Farming-fishing      Husband  White    Male             0             0   \n",
       "2    Protective-serv      Husband  White    Male             0             0   \n",
       "3  Machine-op-inspct      Husband  Black    Male          7688             0   \n",
       "4                  ?    Own-child  White  Female             0             0   \n",
       "\n",
       "   hours_per_week native_country income  \n",
       "0              40  United-States    low  \n",
       "1              50  United-States    low  \n",
       "2              40  United-States   high  \n",
       "3              40  United-States   high  \n",
       "4              30  United-States    low  "
      ]
     },
     "execution_count": 46,
     "metadata": {},
     "output_type": "execute_result"
    }
   ],
   "source": [
    "df.head()"
   ]
  },
  {
   "cell_type": "markdown",
   "id": "37907e39-94ce-49ec-8145-14e03657aafa",
   "metadata": {},
   "source": [
    "- 모델을 만드는데 사용되는 모든 변수는 숫자 타입이어야 합니다.\n",
    "- 원핫 인코딩"
   ]
  },
  {
   "cell_type": "code",
   "execution_count": 52,
   "id": "18a8bf31-cdf5-4731-9c8b-85721ab3ab98",
   "metadata": {},
   "outputs": [
    {
     "name": "stdout",
     "output_type": "stream",
     "text": [
      "<class 'pandas.core.series.Series'>\n",
      "RangeIndex: 48842 entries, 0 to 48841\n",
      "Series name: sex\n",
      "Non-Null Count  Dtype \n",
      "--------------  ----- \n",
      "48842 non-null  object\n",
      "dtypes: object(1)\n",
      "memory usage: 381.7+ KB\n"
     ]
    }
   ],
   "source": [
    "df_tmp = df['sex']\n",
    "df_tmp.info()"
   ]
  },
  {
   "cell_type": "markdown",
   "id": "d286c969-4fa6-4691-803b-de710d3d9806",
   "metadata": {},
   "source": [
    "- pd.get_dummies()에 데이터 프레임을 입력하면 문자 타입 변수를 원핫 인코딩을 적용해 변환할 수 있습니다\n",
    "- 결과는 sex가 사라지고 그 대신 sex_female, sex_male이 만들어 졌습니다"
   ]
  },
  {
   "cell_type": "code",
   "execution_count": 54,
   "id": "dec2531b-67ae-48c1-b6b0-d5c2e37edc1d",
   "metadata": {},
   "outputs": [
    {
     "name": "stdout",
     "output_type": "stream",
     "text": [
      "<class 'pandas.core.frame.DataFrame'>\n",
      "RangeIndex: 48842 entries, 0 to 48841\n",
      "Data columns (total 2 columns):\n",
      " #   Column  Non-Null Count  Dtype\n",
      "---  ------  --------------  -----\n",
      " 0   Female  48842 non-null  bool \n",
      " 1   Male    48842 non-null  bool \n",
      "dtypes: bool(2)\n",
      "memory usage: 95.5 KB\n"
     ]
    }
   ],
   "source": [
    "df_tmp = pd.get_dummies(df_tmp)\n",
    "df_tmp.info()"
   ]
  },
  {
   "cell_type": "code",
   "execution_count": 56,
   "id": "2c41b65c-0346-44c1-92e3-1ed650a51724",
   "metadata": {},
   "outputs": [
    {
     "data": {
      "text/html": [
       "<div>\n",
       "<style scoped>\n",
       "    .dataframe tbody tr th:only-of-type {\n",
       "        vertical-align: middle;\n",
       "    }\n",
       "\n",
       "    .dataframe tbody tr th {\n",
       "        vertical-align: top;\n",
       "    }\n",
       "\n",
       "    .dataframe thead th {\n",
       "        text-align: right;\n",
       "    }\n",
       "</style>\n",
       "<table border=\"1\" class=\"dataframe\">\n",
       "  <thead>\n",
       "    <tr style=\"text-align: right;\">\n",
       "      <th></th>\n",
       "      <th>Female</th>\n",
       "      <th>Male</th>\n",
       "    </tr>\n",
       "  </thead>\n",
       "  <tbody>\n",
       "    <tr>\n",
       "      <th>0</th>\n",
       "      <td>0</td>\n",
       "      <td>1</td>\n",
       "    </tr>\n",
       "    <tr>\n",
       "      <th>1</th>\n",
       "      <td>0</td>\n",
       "      <td>1</td>\n",
       "    </tr>\n",
       "    <tr>\n",
       "      <th>2</th>\n",
       "      <td>0</td>\n",
       "      <td>1</td>\n",
       "    </tr>\n",
       "    <tr>\n",
       "      <th>3</th>\n",
       "      <td>0</td>\n",
       "      <td>1</td>\n",
       "    </tr>\n",
       "    <tr>\n",
       "      <th>4</th>\n",
       "      <td>1</td>\n",
       "      <td>0</td>\n",
       "    </tr>\n",
       "    <tr>\n",
       "      <th>...</th>\n",
       "      <td>...</td>\n",
       "      <td>...</td>\n",
       "    </tr>\n",
       "    <tr>\n",
       "      <th>48837</th>\n",
       "      <td>1</td>\n",
       "      <td>0</td>\n",
       "    </tr>\n",
       "    <tr>\n",
       "      <th>48838</th>\n",
       "      <td>0</td>\n",
       "      <td>1</td>\n",
       "    </tr>\n",
       "    <tr>\n",
       "      <th>48839</th>\n",
       "      <td>1</td>\n",
       "      <td>0</td>\n",
       "    </tr>\n",
       "    <tr>\n",
       "      <th>48840</th>\n",
       "      <td>0</td>\n",
       "      <td>1</td>\n",
       "    </tr>\n",
       "    <tr>\n",
       "      <th>48841</th>\n",
       "      <td>1</td>\n",
       "      <td>0</td>\n",
       "    </tr>\n",
       "  </tbody>\n",
       "</table>\n",
       "<p>48842 rows × 2 columns</p>\n",
       "</div>"
      ],
      "text/plain": [
       "       Female  Male\n",
       "0           0     1\n",
       "1           0     1\n",
       "2           0     1\n",
       "3           0     1\n",
       "4           1     0\n",
       "...       ...   ...\n",
       "48837       1     0\n",
       "48838       0     1\n",
       "48839       1     0\n",
       "48840       0     1\n",
       "48841       1     0\n",
       "\n",
       "[48842 rows x 2 columns]"
      ]
     },
     "execution_count": 56,
     "metadata": {},
     "output_type": "execute_result"
    }
   ],
   "source": [
    "df_tmp = df_tmp.astype('int')\n",
    "df_tmp"
   ]
  },
  {
   "cell_type": "code",
   "execution_count": 61,
   "id": "f7a27b63-1cc1-49bd-be4e-9cae10652bad",
   "metadata": {},
   "outputs": [
    {
     "name": "stdout",
     "output_type": "stream",
     "text": [
      "<class 'pandas.core.frame.DataFrame'>\n",
      "RangeIndex: 48842 entries, 0 to 48841\n",
      "Columns: 109 entries, age to income\n",
      "dtypes: int32(108), object(1)\n",
      "memory usage: 20.5+ MB\n"
     ]
    }
   ],
   "source": [
    "target = df['income']\n",
    "\n",
    "df = df.drop(columns = 'income')\n",
    "df = pd.get_dummies(df).astype('int')\n",
    "\n",
    "df['income'] = target\n",
    "df.info()"
   ]
  },
  {
   "cell_type": "code",
   "execution_count": 62,
   "id": "208cc047-0f32-4d79-8b6c-269391033fcf",
   "metadata": {},
   "outputs": [
    {
     "name": "stdout",
     "output_type": "stream",
     "text": [
      "<class 'pandas.core.frame.DataFrame'>\n",
      "RangeIndex: 48842 entries, 0 to 48841\n",
      "Data columns (total 109 columns):\n",
      " #    Column                                     Non-Null Count  Dtype \n",
      "---   ------                                     --------------  ----- \n",
      " 0    age                                        48842 non-null  int32 \n",
      " 1    fnlwgt                                     48842 non-null  int32 \n",
      " 2    education_num                              48842 non-null  int32 \n",
      " 3    capital_gain                               48842 non-null  int32 \n",
      " 4    capital_loss                               48842 non-null  int32 \n",
      " 5    hours_per_week                             48842 non-null  int32 \n",
      " 6    workclass_?                                48842 non-null  int32 \n",
      " 7    workclass_Federal-gov                      48842 non-null  int32 \n",
      " 8    workclass_Local-gov                        48842 non-null  int32 \n",
      " 9    workclass_Never-worked                     48842 non-null  int32 \n",
      " 10   workclass_Private                          48842 non-null  int32 \n",
      " 11   workclass_Self-emp-inc                     48842 non-null  int32 \n",
      " 12   workclass_Self-emp-not-inc                 48842 non-null  int32 \n",
      " 13   workclass_State-gov                        48842 non-null  int32 \n",
      " 14   workclass_Without-pay                      48842 non-null  int32 \n",
      " 15   education_10th                             48842 non-null  int32 \n",
      " 16   education_11th                             48842 non-null  int32 \n",
      " 17   education_12th                             48842 non-null  int32 \n",
      " 18   education_1st-4th                          48842 non-null  int32 \n",
      " 19   education_5th-6th                          48842 non-null  int32 \n",
      " 20   education_7th-8th                          48842 non-null  int32 \n",
      " 21   education_9th                              48842 non-null  int32 \n",
      " 22   education_Assoc-acdm                       48842 non-null  int32 \n",
      " 23   education_Assoc-voc                        48842 non-null  int32 \n",
      " 24   education_Bachelors                        48842 non-null  int32 \n",
      " 25   education_Doctorate                        48842 non-null  int32 \n",
      " 26   education_HS-grad                          48842 non-null  int32 \n",
      " 27   education_Masters                          48842 non-null  int32 \n",
      " 28   education_Preschool                        48842 non-null  int32 \n",
      " 29   education_Prof-school                      48842 non-null  int32 \n",
      " 30   education_Some-college                     48842 non-null  int32 \n",
      " 31   marital_status_Divorced                    48842 non-null  int32 \n",
      " 32   marital_status_Married-AF-spouse           48842 non-null  int32 \n",
      " 33   marital_status_Married-civ-spouse          48842 non-null  int32 \n",
      " 34   marital_status_Married-spouse-absent       48842 non-null  int32 \n",
      " 35   marital_status_Never-married               48842 non-null  int32 \n",
      " 36   marital_status_Separated                   48842 non-null  int32 \n",
      " 37   marital_status_Widowed                     48842 non-null  int32 \n",
      " 38   occupation_?                               48842 non-null  int32 \n",
      " 39   occupation_Adm-clerical                    48842 non-null  int32 \n",
      " 40   occupation_Armed-Forces                    48842 non-null  int32 \n",
      " 41   occupation_Craft-repair                    48842 non-null  int32 \n",
      " 42   occupation_Exec-managerial                 48842 non-null  int32 \n",
      " 43   occupation_Farming-fishing                 48842 non-null  int32 \n",
      " 44   occupation_Handlers-cleaners               48842 non-null  int32 \n",
      " 45   occupation_Machine-op-inspct               48842 non-null  int32 \n",
      " 46   occupation_Other-service                   48842 non-null  int32 \n",
      " 47   occupation_Priv-house-serv                 48842 non-null  int32 \n",
      " 48   occupation_Prof-specialty                  48842 non-null  int32 \n",
      " 49   occupation_Protective-serv                 48842 non-null  int32 \n",
      " 50   occupation_Sales                           48842 non-null  int32 \n",
      " 51   occupation_Tech-support                    48842 non-null  int32 \n",
      " 52   occupation_Transport-moving                48842 non-null  int32 \n",
      " 53   relationship_Husband                       48842 non-null  int32 \n",
      " 54   relationship_Not-in-family                 48842 non-null  int32 \n",
      " 55   relationship_Other-relative                48842 non-null  int32 \n",
      " 56   relationship_Own-child                     48842 non-null  int32 \n",
      " 57   relationship_Unmarried                     48842 non-null  int32 \n",
      " 58   relationship_Wife                          48842 non-null  int32 \n",
      " 59   race_Amer-Indian-Eskimo                    48842 non-null  int32 \n",
      " 60   race_Asian-Pac-Islander                    48842 non-null  int32 \n",
      " 61   race_Black                                 48842 non-null  int32 \n",
      " 62   race_Other                                 48842 non-null  int32 \n",
      " 63   race_White                                 48842 non-null  int32 \n",
      " 64   sex_Female                                 48842 non-null  int32 \n",
      " 65   sex_Male                                   48842 non-null  int32 \n",
      " 66   native_country_?                           48842 non-null  int32 \n",
      " 67   native_country_Cambodia                    48842 non-null  int32 \n",
      " 68   native_country_Canada                      48842 non-null  int32 \n",
      " 69   native_country_China                       48842 non-null  int32 \n",
      " 70   native_country_Columbia                    48842 non-null  int32 \n",
      " 71   native_country_Cuba                        48842 non-null  int32 \n",
      " 72   native_country_Dominican-Republic          48842 non-null  int32 \n",
      " 73   native_country_Ecuador                     48842 non-null  int32 \n",
      " 74   native_country_El-Salvador                 48842 non-null  int32 \n",
      " 75   native_country_England                     48842 non-null  int32 \n",
      " 76   native_country_France                      48842 non-null  int32 \n",
      " 77   native_country_Germany                     48842 non-null  int32 \n",
      " 78   native_country_Greece                      48842 non-null  int32 \n",
      " 79   native_country_Guatemala                   48842 non-null  int32 \n",
      " 80   native_country_Haiti                       48842 non-null  int32 \n",
      " 81   native_country_Holand-Netherlands          48842 non-null  int32 \n",
      " 82   native_country_Honduras                    48842 non-null  int32 \n",
      " 83   native_country_Hong                        48842 non-null  int32 \n",
      " 84   native_country_Hungary                     48842 non-null  int32 \n",
      " 85   native_country_India                       48842 non-null  int32 \n",
      " 86   native_country_Iran                        48842 non-null  int32 \n",
      " 87   native_country_Ireland                     48842 non-null  int32 \n",
      " 88   native_country_Italy                       48842 non-null  int32 \n",
      " 89   native_country_Jamaica                     48842 non-null  int32 \n",
      " 90   native_country_Japan                       48842 non-null  int32 \n",
      " 91   native_country_Laos                        48842 non-null  int32 \n",
      " 92   native_country_Mexico                      48842 non-null  int32 \n",
      " 93   native_country_Nicaragua                   48842 non-null  int32 \n",
      " 94   native_country_Outlying-US(Guam-USVI-etc)  48842 non-null  int32 \n",
      " 95   native_country_Peru                        48842 non-null  int32 \n",
      " 96   native_country_Philippines                 48842 non-null  int32 \n",
      " 97   native_country_Poland                      48842 non-null  int32 \n",
      " 98   native_country_Portugal                    48842 non-null  int32 \n",
      " 99   native_country_Puerto-Rico                 48842 non-null  int32 \n",
      " 100  native_country_Scotland                    48842 non-null  int32 \n",
      " 101  native_country_South                       48842 non-null  int32 \n",
      " 102  native_country_Taiwan                      48842 non-null  int32 \n",
      " 103  native_country_Thailand                    48842 non-null  int32 \n",
      " 104  native_country_Trinadad&Tobago             48842 non-null  int32 \n",
      " 105  native_country_United-States               48842 non-null  int32 \n",
      " 106  native_country_Vietnam                     48842 non-null  int32 \n",
      " 107  native_country_Yugoslavia                  48842 non-null  int32 \n",
      " 108  income                                     48842 non-null  object\n",
      "dtypes: int32(108), object(1)\n",
      "memory usage: 20.5+ MB\n"
     ]
    }
   ],
   "source": [
    "import numpy as np\n",
    "\n",
    "df.info(max_cols = np.inf)"
   ]
  },
  {
   "cell_type": "markdown",
   "id": "41694e9d-2e52-4a6b-8118-a1396c29e08c",
   "metadata": {},
   "source": [
    "## 데이터 분할하기"
   ]
  },
  {
   "cell_type": "markdown",
   "id": "bc1a78af-2afb-45dd-ab46-1a4f2ee7de6e",
   "metadata": {},
   "source": [
    "```\n",
    "모델을 만들 때 가지고 있는 모든 데이터를 사용하는 게 아니라 일부만 무작위로 추출해 사용해야 합니다.\n",
    "모든 데이터를 사용해 모델을 만들면 성능 평가 점수를 신뢰할 수 없다.\n",
    "모델을 만들고 나면 모델이 타겟 변수를 얼머나 정확하게 예측하는지 알아보기 위해 성능을 평가할 때 그대로 다시 사용하면 평가 점수를 신뢰할 수 없게 됩니다.\n",
    "에측 정확도가 높게 나오더라도 모델의 성능이 좋아서인지 아니면 이미 경험한 데이터라 잘 맞춘 것인지 알 수 없기 때문이빈다.\n",
    "이는 학생이 연습 문제로 공부한 다음 똑같은 문제로 시험을 치르는 상황과 비슷합니다. 공부할 때 풀어본 문제를 다시 푸는 것에 불과하므로 실력을 제대로 평가할 수 없는 것입니다.\n",
    "\n",
    "크로스 밸리데이션 : 신뢰할 수 있는 성능 평가 점수를 얻는 방법\n",
    "신뢰할 수 있는 성능 평가 점수를 얻으려면 가지고 있는 데이터에서 일부만 추출해 모델을 만들 때 사용하고, 나머지는 남겨 두었다가 성능을 평가할 때 사용해야 합니다.\n",
    "데이터를 훈련용과 평가용으로 나누어 사용하는 것입니다. 이렇게 하면 모델이 한 번도 경험한 적 없는 데이터로 성능을 평가하므로 평가 점수를 신뢰할 수 있게 됩니다.\n",
    "이는 학생이 문제 은행에서 일부만 뽑아 공부한 다음 나머지 문제로 시험을 치르는 상황과 비슷합니다. 공부할 때 이미 풀어본 문제가 아니라 처음 보는 문제를 얼마나 잘 푸는지 봐야만\n",
    "실력을 제대로 평가할 수 있는 것입니다.\n",
    "```"
   ]
  },
  {
   "cell_type": "code",
   "execution_count": 67,
   "id": "d5147cd3-9c3a-4c2f-af2d-fb6f94b3e26d",
   "metadata": {},
   "outputs": [],
   "source": [
    "from sklearn.model_selection import train_test_split\n",
    "df_train, df_test = train_test_split(\n",
    "    df,\n",
    "    test_size = 0.2,  # 테스트 세트 비율\n",
    "    stratify = df['income'],  # 타겟 변수 비율 유지\n",
    "    random_state = 1234  # 난수 고정\n",
    ")"
   ]
  },
  {
   "cell_type": "code",
   "execution_count": 68,
   "id": "5fd12346-c9f3-4888-92a5-53e785f804e2",
   "metadata": {},
   "outputs": [
    {
     "data": {
      "text/plain": [
       "(39073, 109)"
      ]
     },
     "execution_count": 68,
     "metadata": {},
     "output_type": "execute_result"
    }
   ],
   "source": [
    "# train\n",
    "df_train.shape"
   ]
  },
  {
   "cell_type": "code",
   "execution_count": 69,
   "id": "947a9bb4-b4a6-4426-a886-1a1192633f0a",
   "metadata": {},
   "outputs": [
    {
     "data": {
      "text/plain": [
       "(9769, 109)"
      ]
     },
     "execution_count": 69,
     "metadata": {},
     "output_type": "execute_result"
    }
   ],
   "source": [
    "#test\n",
    "df_test.shape"
   ]
  },
  {
   "cell_type": "code",
   "execution_count": 70,
   "id": "39f0d9e4-504e-444d-9882-7c1d2a07053f",
   "metadata": {},
   "outputs": [
    {
     "data": {
      "text/plain": [
       "income\n",
       "low     0.76073\n",
       "high    0.23927\n",
       "Name: proportion, dtype: float64"
      ]
     },
     "execution_count": 70,
     "metadata": {},
     "output_type": "execute_result"
    }
   ],
   "source": [
    "# train\n",
    "df_train['income'].value_counts(normalize=True)"
   ]
  },
  {
   "cell_type": "code",
   "execution_count": 71,
   "id": "aafb5833-3a33-4016-ad9c-350a6c4160a3",
   "metadata": {},
   "outputs": [
    {
     "data": {
      "text/plain": [
       "income\n",
       "low     0.760672\n",
       "high    0.239328\n",
       "Name: proportion, dtype: float64"
      ]
     },
     "execution_count": 71,
     "metadata": {},
     "output_type": "execute_result"
    }
   ],
   "source": [
    "# test\n",
    "df_test['income'].value_counts(normalize=True)"
   ]
  },
  {
   "cell_type": "markdown",
   "id": "66904731-1a23-42ec-82a9-c16c34450da3",
   "metadata": {},
   "source": [
    "### 의사결정나무 모델 만들기"
   ]
  },
  {
   "cell_type": "markdown",
   "id": "75d88d7b-4c32-4d53-93f7-c1198c59884e",
   "metadata": {},
   "source": [
    "- random_state : 난초 초깃값, 변수 선택 과정에 난수를 이용하기 때문에 코드를 실행할 때마다 결과가 조금씩 달라집니다.난수를 고정하면 코드를 여러 번 실행해도 결과가 항상 같습니다.\n",
    "- max_depth : 나무의 깊이. 노드를 최대 몇번까지 분할할지 정합니다. 숫자가 클수록 노드를 여러번 분할해 복잡한 모델을 만듭니다. 값을 지정하지 않으면\n",
    "노드를 최대한 많이 분할합니다. 여기서는 단순한 모델을 만들도록 3을 입력합니다"
   ]
  },
  {
   "cell_type": "markdown",
   "id": "1ee725c4-336c-424a-8f6e-6342425a239a",
   "metadata": {},
   "source": [
    "### 모델 설정하기"
   ]
  },
  {
   "cell_type": "code",
   "execution_count": 75,
   "id": "d48d7b9e-0c02-41b8-95c9-5264754ac28a",
   "metadata": {},
   "outputs": [],
   "source": [
    "from sklearn import tree\n",
    "clf = tree.DecisionTreeClassifier(\n",
    "    random_state = 1234,  # 난수 고정\n",
    "    max_depth = 3   # 나무 깊이\n",
    ")"
   ]
  },
  {
   "cell_type": "markdown",
   "id": "8660df5b-da79-4dea-8820-4b5fd2c7de40",
   "metadata": {},
   "source": [
    "- clf는 classifier의 줄임말입니다. 고소득/저소득처럼 데이터를 몇 개 중 하나로 분류하는 모델을 분류 모델 또는 분류기라 합니다"
   ]
  },
  {
   "cell_type": "markdown",
   "id": "0517911b-c625-49ef-92d7-17332b39d995",
   "metadata": {},
   "source": [
    "### 모델 만들기"
   ]
  },
  {
   "cell_type": "code",
   "execution_count": 81,
   "id": "a098babd-600f-4a0f-adc8-6259cdd5bcae",
   "metadata": {},
   "outputs": [],
   "source": [
    "train_x = df_train.drop(columns = 'income')  # 예측(독립) 변수 추출\n",
    "train_y = df_train['income']  # 타겟(종속) 변수 추출\n",
    "\n",
    "model = clf.fit(X = train_x, y = train_y)  # 모델 만들기"
   ]
  },
  {
   "cell_type": "code",
   "execution_count": 87,
   "id": "f2ea462a-25a7-47cb-ab4a-d808fa7af9ef",
   "metadata": {},
   "outputs": [
    {
     "data": {
      "image/png": "[encoded data removed]",
      "text/plain": [
       "<Figure size 1200x800 with 1 Axes>"
      ]
     },
     "metadata": {},
     "output_type": "display_data"
    }
   ],
   "source": [
    "import matplotlib.pyplot as plt\n",
    "plt.rcParams.update({\n",
    "    'figure.dpi' : '100',\n",
    "    'figure.figsize' : [12,8]\n",
    "})\n",
    "\n",
    "tree.plot_tree(model);"
   ]
  },
  {
   "cell_type": "code",
   "execution_count": 89,
   "id": "b2b4d129-17b7-453b-9dc8-fd2794b9d3e8",
   "metadata": {},
   "outputs": [
    {
     "data": {
      "image/png": "[encoded data removed]",
      "text/plain": [
       "<Figure size 1200x800 with 1 Axes>"
      ]
     },
     "metadata": {},
     "output_type": "display_data"
    }
   ],
   "source": [
    "tree.plot_tree(\n",
    "    model,\n",
    "    feature_names = train_x.columns,   # 예측 변수명\n",
    "    class_names = ['high', 'low'],     # 타겟 변수 클래스, 알파벳순\n",
    "    proportion = True,                 # 비율 표기\n",
    "    filled = True,                     # 색칠\n",
    "    rounded = True,                    # 둥근 테두리\n",
    "    impurity = False,                  # 불순도 표시\n",
    "    label = 'root',                    # label 표시 위치\n",
    "    fontsize = 10                      # 글자 크기\n",
    ");"
   ]
  },
  {
   "cell_type": "markdown",
   "id": "4d2c581b-b9c4-44c2-b3aa-a9818b021cd8",
   "metadata": {},
   "source": [
    "- 분리 기준(가장 위에 있는 글) : 전체 데이터의 몇 퍼센트가 해당 노드로 분류됐는지 나타냄\n",
    "첫 번째 노드는 아직 한번도 나뉘지 않았으므로, 데이터의 100%가 이 노드에 속함. 다음 단계의 노드로 내려가면 데이터가 여러 노드로 배분되므로 비율이 줄어듭니다.\n",
    "예를 들어 두 번째 단계의 노드를 보면 왼쪽 노드는 54.2%, 른쪽 노드는 45.8*입니다. 같은 단계의 노드 비율을 모두 더하면 100%가 됨\n",
    "- 타겟 변수의 클래스별 비율을 알파벳순으로 나타냅니다. 타겟 변수 income의 high와 low중 high가 알파벳순으로 우선합니다\n",
    "high가 23.9%, low가 76.1%를 알 수 있습니다\n",
    "- 0.5를 기준으로 타겟 변수의 두 클래스 중 어느 쪽이 더 많은지 나타냅니다. high가 23.9%, low가 76.1%가 더 많으므로 low가 표시됩니다\n",
    "- 노드를 분리할 때 사용할 기준을 나타냅니다. 이 기준을 충족시키는 데이터는 왼쪽, 충족하지 않은 데이터는 오른쪽 노드로 할당됩니다"
   ]
  },
  {
   "cell_type": "markdown",
   "id": "96698c99-ce5d-42bd-83dc-3841cc26c250",
   "metadata": {},
   "source": [
    "### 왼쪽 노드"
   ]
  },
  {
   "cell_type": "markdown",
   "id": "8052060f-913e-4bf8-aa6b-c7cd3aab981d",
   "metadata": {},
   "source": [
    "- 첫 번째 노드의 조건을 충족한 비혼자가 이 노드에 할당됩니다. 비혼자는 전체의 54.2%입니다. 비혼자의 income은 \n",
    "high 6.4%, low가 93.6%로 low가 많습니다. 다음으로 노드를 나누는 기준은 capital_gain <= 7073.5 입니다"
   ]
  },
  {
   "cell_type": "markdown",
   "id": "ed9cea8b-7038-49ec-a2c1-eca2cfe96e2d",
   "metadata": {},
   "source": [
    "### 오른쪽 노드"
   ]
  },
  {
   "cell_type": "markdown",
   "id": "6fabc9cb-c7ec-47a2-a142-1cc428dd3f9d",
   "metadata": {},
   "source": [
    "- 위 기준에 충족되지 않은 기혼자가 이 노드에 할당됩니다. 기혼자는 전체의 45.8%. 기혼자의 income은 high 44.7%, low는 55.3%로 low가 더 많습니다.\n",
    "다음으로 노드를 나누느 기준은 education_num <= 12.5 입니다."
   ]
  },
  {
   "cell_type": "markdown",
   "id": "f1648dab-f1ae-4531-8f5c-4673018aab9f",
   "metadata": {},
   "source": [
    "### 노드의 색"
   ]
  },
  {
   "cell_type": "markdown",
   "id": "5de79311-797c-47fb-9055-169c408b9a63",
   "metadata": {},
   "source": [
    "```\n",
    "노드의 색깔은 우세한 타겟 변수의 클래스에 따라 정해집니다.\n",
    "    그래프를 보면 high의 비율이 높은 노드는 주황색, low의 비율이 높은 노드는 파란색 개열로 표현됩니다\n",
    "```"
   ]
  },
  {
   "cell_type": "markdown",
   "id": "357db528-8029-41e2-a05d-0958fb5c836c",
   "metadata": {},
   "source": [
    "## 모델을 이용해 예측하기"
   ]
  },
  {
   "cell_type": "code",
   "execution_count": 91,
   "id": "538f3371-ba21-494c-9873-39ae47975dc0",
   "metadata": {},
   "outputs": [],
   "source": [
    "test_x = df_test.drop(columns='income')  # 독립변수(예측변수) 추출\n",
    "test_y = df_test['income']  # 종속변수(타겟) 추출"
   ]
  },
  {
   "cell_type": "code",
   "execution_count": 92,
   "id": "55b43fd7-8689-4bf4-a1ba-f2de0c95d50d",
   "metadata": {},
   "outputs": [
    {
     "data": {
      "text/html": [
       "<div>\n",
       "<style scoped>\n",
       "    .dataframe tbody tr th:only-of-type {\n",
       "        vertical-align: middle;\n",
       "    }\n",
       "\n",
       "    .dataframe tbody tr th {\n",
       "        vertical-align: top;\n",
       "    }\n",
       "\n",
       "    .dataframe thead th {\n",
       "        text-align: right;\n",
       "    }\n",
       "</style>\n",
       "<table border=\"1\" class=\"dataframe\">\n",
       "  <thead>\n",
       "    <tr style=\"text-align: right;\">\n",
       "      <th></th>\n",
       "      <th>age</th>\n",
       "      <th>fnlwgt</th>\n",
       "      <th>education_num</th>\n",
       "      <th>capital_gain</th>\n",
       "      <th>capital_loss</th>\n",
       "      <th>hours_per_week</th>\n",
       "      <th>workclass_?</th>\n",
       "      <th>workclass_Federal-gov</th>\n",
       "      <th>workclass_Local-gov</th>\n",
       "      <th>workclass_Never-worked</th>\n",
       "      <th>...</th>\n",
       "      <th>native_country_Scotland</th>\n",
       "      <th>native_country_South</th>\n",
       "      <th>native_country_Taiwan</th>\n",
       "      <th>native_country_Thailand</th>\n",
       "      <th>native_country_Trinadad&amp;Tobago</th>\n",
       "      <th>native_country_United-States</th>\n",
       "      <th>native_country_Vietnam</th>\n",
       "      <th>native_country_Yugoslavia</th>\n",
       "      <th>income</th>\n",
       "      <th>pred</th>\n",
       "    </tr>\n",
       "  </thead>\n",
       "  <tbody>\n",
       "    <tr>\n",
       "      <th>20801</th>\n",
       "      <td>35</td>\n",
       "      <td>301614</td>\n",
       "      <td>9</td>\n",
       "      <td>0</td>\n",
       "      <td>0</td>\n",
       "      <td>60</td>\n",
       "      <td>0</td>\n",
       "      <td>0</td>\n",
       "      <td>0</td>\n",
       "      <td>0</td>\n",
       "      <td>...</td>\n",
       "      <td>0</td>\n",
       "      <td>0</td>\n",
       "      <td>0</td>\n",
       "      <td>0</td>\n",
       "      <td>0</td>\n",
       "      <td>1</td>\n",
       "      <td>0</td>\n",
       "      <td>0</td>\n",
       "      <td>low</td>\n",
       "      <td>low</td>\n",
       "    </tr>\n",
       "    <tr>\n",
       "      <th>15664</th>\n",
       "      <td>60</td>\n",
       "      <td>74422</td>\n",
       "      <td>3</td>\n",
       "      <td>0</td>\n",
       "      <td>0</td>\n",
       "      <td>44</td>\n",
       "      <td>0</td>\n",
       "      <td>0</td>\n",
       "      <td>0</td>\n",
       "      <td>0</td>\n",
       "      <td>...</td>\n",
       "      <td>0</td>\n",
       "      <td>0</td>\n",
       "      <td>0</td>\n",
       "      <td>0</td>\n",
       "      <td>0</td>\n",
       "      <td>0</td>\n",
       "      <td>0</td>\n",
       "      <td>0</td>\n",
       "      <td>low</td>\n",
       "      <td>low</td>\n",
       "    </tr>\n",
       "    <tr>\n",
       "      <th>19342</th>\n",
       "      <td>40</td>\n",
       "      <td>245529</td>\n",
       "      <td>12</td>\n",
       "      <td>0</td>\n",
       "      <td>0</td>\n",
       "      <td>40</td>\n",
       "      <td>0</td>\n",
       "      <td>0</td>\n",
       "      <td>0</td>\n",
       "      <td>0</td>\n",
       "      <td>...</td>\n",
       "      <td>0</td>\n",
       "      <td>0</td>\n",
       "      <td>0</td>\n",
       "      <td>0</td>\n",
       "      <td>0</td>\n",
       "      <td>1</td>\n",
       "      <td>0</td>\n",
       "      <td>0</td>\n",
       "      <td>low</td>\n",
       "      <td>low</td>\n",
       "    </tr>\n",
       "    <tr>\n",
       "      <th>20421</th>\n",
       "      <td>43</td>\n",
       "      <td>125405</td>\n",
       "      <td>9</td>\n",
       "      <td>0</td>\n",
       "      <td>0</td>\n",
       "      <td>40</td>\n",
       "      <td>0</td>\n",
       "      <td>0</td>\n",
       "      <td>0</td>\n",
       "      <td>0</td>\n",
       "      <td>...</td>\n",
       "      <td>0</td>\n",
       "      <td>0</td>\n",
       "      <td>0</td>\n",
       "      <td>0</td>\n",
       "      <td>0</td>\n",
       "      <td>1</td>\n",
       "      <td>0</td>\n",
       "      <td>0</td>\n",
       "      <td>low</td>\n",
       "      <td>low</td>\n",
       "    </tr>\n",
       "    <tr>\n",
       "      <th>15358</th>\n",
       "      <td>22</td>\n",
       "      <td>93131</td>\n",
       "      <td>10</td>\n",
       "      <td>1055</td>\n",
       "      <td>0</td>\n",
       "      <td>20</td>\n",
       "      <td>0</td>\n",
       "      <td>0</td>\n",
       "      <td>0</td>\n",
       "      <td>0</td>\n",
       "      <td>...</td>\n",
       "      <td>0</td>\n",
       "      <td>0</td>\n",
       "      <td>0</td>\n",
       "      <td>0</td>\n",
       "      <td>0</td>\n",
       "      <td>0</td>\n",
       "      <td>0</td>\n",
       "      <td>0</td>\n",
       "      <td>low</td>\n",
       "      <td>low</td>\n",
       "    </tr>\n",
       "    <tr>\n",
       "      <th>...</th>\n",
       "      <td>...</td>\n",
       "      <td>...</td>\n",
       "      <td>...</td>\n",
       "      <td>...</td>\n",
       "      <td>...</td>\n",
       "      <td>...</td>\n",
       "      <td>...</td>\n",
       "      <td>...</td>\n",
       "      <td>...</td>\n",
       "      <td>...</td>\n",
       "      <td>...</td>\n",
       "      <td>...</td>\n",
       "      <td>...</td>\n",
       "      <td>...</td>\n",
       "      <td>...</td>\n",
       "      <td>...</td>\n",
       "      <td>...</td>\n",
       "      <td>...</td>\n",
       "      <td>...</td>\n",
       "      <td>...</td>\n",
       "      <td>...</td>\n",
       "    </tr>\n",
       "    <tr>\n",
       "      <th>3345</th>\n",
       "      <td>44</td>\n",
       "      <td>160919</td>\n",
       "      <td>9</td>\n",
       "      <td>0</td>\n",
       "      <td>0</td>\n",
       "      <td>30</td>\n",
       "      <td>0</td>\n",
       "      <td>0</td>\n",
       "      <td>0</td>\n",
       "      <td>0</td>\n",
       "      <td>...</td>\n",
       "      <td>0</td>\n",
       "      <td>0</td>\n",
       "      <td>0</td>\n",
       "      <td>0</td>\n",
       "      <td>0</td>\n",
       "      <td>1</td>\n",
       "      <td>0</td>\n",
       "      <td>0</td>\n",
       "      <td>low</td>\n",
       "      <td>low</td>\n",
       "    </tr>\n",
       "    <tr>\n",
       "      <th>48630</th>\n",
       "      <td>36</td>\n",
       "      <td>250807</td>\n",
       "      <td>7</td>\n",
       "      <td>0</td>\n",
       "      <td>0</td>\n",
       "      <td>40</td>\n",
       "      <td>0</td>\n",
       "      <td>0</td>\n",
       "      <td>0</td>\n",
       "      <td>0</td>\n",
       "      <td>...</td>\n",
       "      <td>0</td>\n",
       "      <td>0</td>\n",
       "      <td>0</td>\n",
       "      <td>0</td>\n",
       "      <td>0</td>\n",
       "      <td>1</td>\n",
       "      <td>0</td>\n",
       "      <td>0</td>\n",
       "      <td>low</td>\n",
       "      <td>low</td>\n",
       "    </tr>\n",
       "    <tr>\n",
       "      <th>26256</th>\n",
       "      <td>19</td>\n",
       "      <td>69770</td>\n",
       "      <td>10</td>\n",
       "      <td>0</td>\n",
       "      <td>0</td>\n",
       "      <td>20</td>\n",
       "      <td>0</td>\n",
       "      <td>0</td>\n",
       "      <td>0</td>\n",
       "      <td>0</td>\n",
       "      <td>...</td>\n",
       "      <td>0</td>\n",
       "      <td>0</td>\n",
       "      <td>0</td>\n",
       "      <td>0</td>\n",
       "      <td>0</td>\n",
       "      <td>1</td>\n",
       "      <td>0</td>\n",
       "      <td>0</td>\n",
       "      <td>low</td>\n",
       "      <td>low</td>\n",
       "    </tr>\n",
       "    <tr>\n",
       "      <th>1324</th>\n",
       "      <td>53</td>\n",
       "      <td>117932</td>\n",
       "      <td>9</td>\n",
       "      <td>0</td>\n",
       "      <td>0</td>\n",
       "      <td>40</td>\n",
       "      <td>0</td>\n",
       "      <td>0</td>\n",
       "      <td>0</td>\n",
       "      <td>0</td>\n",
       "      <td>...</td>\n",
       "      <td>0</td>\n",
       "      <td>0</td>\n",
       "      <td>0</td>\n",
       "      <td>0</td>\n",
       "      <td>0</td>\n",
       "      <td>1</td>\n",
       "      <td>0</td>\n",
       "      <td>0</td>\n",
       "      <td>low</td>\n",
       "      <td>low</td>\n",
       "    </tr>\n",
       "    <tr>\n",
       "      <th>48708</th>\n",
       "      <td>41</td>\n",
       "      <td>206878</td>\n",
       "      <td>9</td>\n",
       "      <td>0</td>\n",
       "      <td>0</td>\n",
       "      <td>32</td>\n",
       "      <td>0</td>\n",
       "      <td>0</td>\n",
       "      <td>0</td>\n",
       "      <td>0</td>\n",
       "      <td>...</td>\n",
       "      <td>0</td>\n",
       "      <td>0</td>\n",
       "      <td>0</td>\n",
       "      <td>0</td>\n",
       "      <td>0</td>\n",
       "      <td>1</td>\n",
       "      <td>0</td>\n",
       "      <td>0</td>\n",
       "      <td>low</td>\n",
       "      <td>low</td>\n",
       "    </tr>\n",
       "  </tbody>\n",
       "</table>\n",
       "<p>9769 rows × 110 columns</p>\n",
       "</div>"
      ],
      "text/plain": [
       "       age  fnlwgt  education_num  capital_gain  capital_loss  hours_per_week  \\\n",
       "20801   35  301614              9             0             0              60   \n",
       "15664   60   74422              3             0             0              44   \n",
       "19342   40  245529             12             0             0              40   \n",
       "20421   43  125405              9             0             0              40   \n",
       "15358   22   93131             10          1055             0              20   \n",
       "...    ...     ...            ...           ...           ...             ...   \n",
       "3345    44  160919              9             0             0              30   \n",
       "48630   36  250807              7             0             0              40   \n",
       "26256   19   69770             10             0             0              20   \n",
       "1324    53  117932              9             0             0              40   \n",
       "48708   41  206878              9             0             0              32   \n",
       "\n",
       "       workclass_?  workclass_Federal-gov  workclass_Local-gov  \\\n",
       "20801            0                      0                    0   \n",
       "15664            0                      0                    0   \n",
       "19342            0                      0                    0   \n",
       "20421            0                      0                    0   \n",
       "15358            0                      0                    0   \n",
       "...            ...                    ...                  ...   \n",
       "3345             0                      0                    0   \n",
       "48630            0                      0                    0   \n",
       "26256            0                      0                    0   \n",
       "1324             0                      0                    0   \n",
       "48708            0                      0                    0   \n",
       "\n",
       "       workclass_Never-worked  ...  native_country_Scotland  \\\n",
       "20801                       0  ...                        0   \n",
       "15664                       0  ...                        0   \n",
       "19342                       0  ...                        0   \n",
       "20421                       0  ...                        0   \n",
       "15358                       0  ...                        0   \n",
       "...                       ...  ...                      ...   \n",
       "3345                        0  ...                        0   \n",
       "48630                       0  ...                        0   \n",
       "26256                       0  ...                        0   \n",
       "1324                        0  ...                        0   \n",
       "48708                       0  ...                        0   \n",
       "\n",
       "       native_country_South  native_country_Taiwan  native_country_Thailand  \\\n",
       "20801                     0                      0                        0   \n",
       "15664                     0                      0                        0   \n",
       "19342                     0                      0                        0   \n",
       "20421                     0                      0                        0   \n",
       "15358                     0                      0                        0   \n",
       "...                     ...                    ...                      ...   \n",
       "3345                      0                      0                        0   \n",
       "48630                     0                      0                        0   \n",
       "26256                     0                      0                        0   \n",
       "1324                      0                      0                        0   \n",
       "48708                     0                      0                        0   \n",
       "\n",
       "       native_country_Trinadad&Tobago  native_country_United-States  \\\n",
       "20801                               0                             1   \n",
       "15664                               0                             0   \n",
       "19342                               0                             1   \n",
       "20421                               0                             1   \n",
       "15358                               0                             0   \n",
       "...                               ...                           ...   \n",
       "3345                                0                             1   \n",
       "48630                               0                             1   \n",
       "26256                               0                             1   \n",
       "1324                                0                             1   \n",
       "48708                               0                             1   \n",
       "\n",
       "       native_country_Vietnam  native_country_Yugoslavia  income  pred  \n",
       "20801                       0                          0     low   low  \n",
       "15664                       0                          0     low   low  \n",
       "19342                       0                          0     low   low  \n",
       "20421                       0                          0     low   low  \n",
       "15358                       0                          0     low   low  \n",
       "...                       ...                        ...     ...   ...  \n",
       "3345                        0                          0     low   low  \n",
       "48630                       0                          0     low   low  \n",
       "26256                       0                          0     low   low  \n",
       "1324                        0                          0     low   low  \n",
       "48708                       0                          0     low   low  \n",
       "\n",
       "[9769 rows x 110 columns]"
      ]
     },
     "execution_count": 92,
     "metadata": {},
     "output_type": "execute_result"
    }
   ],
   "source": [
    "# 예측값 구하기\n",
    "df_test['pred'] = model.predict(test_x)\n",
    "df_test"
   ]
  },
  {
   "cell_type": "markdown",
   "id": "665202ee-1d7f-425c-8ca4-05f85663e85f",
   "metadata": {},
   "source": [
    "- income과 pred의 값을 보면 모델의 예측이 맞았는지 알 수 있습니다. 두 벼수의 값이 같으면 예측이 맞은 것이고,\n",
    "두 변수의 값이 다르면 예측이 틀린 것입니다"
   ]
  },
  {
   "cell_type": "markdown",
   "id": "06f6b1c8-7dfb-4eab-98cd-273cafb31788",
   "metadata": {},
   "source": [
    "## 성능 평가 하기"
   ]
  },
  {
   "cell_type": "markdown",
   "id": "dabc4b2f-a1b9-4732-915f-2c56cdafd14f",
   "metadata": {},
   "source": [
    "## confusion matrix 만들기"
   ]
  },
  {
   "cell_type": "markdown",
   "id": "43dba422-4889-40ce-bd0f-a9f3d5d3e280",
   "metadata": {},
   "source": [
    "모델이 예측한 값 중 맞는 경우와 틀린 경우의 빈도를 나타낸 컨퓨전 매트릭스를 만들어보자\n",
    "- y_true : 타겟 변수\n",
    "- y_pred : 예측 변수\n",
    "- labels : 클래스 배치 순서"
   ]
  },
  {
   "cell_type": "code",
   "execution_count": 94,
   "id": "dbddab8e-ca67-4537-a627-952c528d6cfa",
   "metadata": {},
   "outputs": [
    {
     "data": {
      "text/plain": [
       "array([[1216, 1122],\n",
       "       [ 389, 7042]], dtype=int64)"
      ]
     },
     "execution_count": 94,
     "metadata": {},
     "output_type": "execute_result"
    }
   ],
   "source": [
    "from sklearn.metrics import confusion_matrix\n",
    "conf_mat = confusion_matrix(\n",
    "    y_true = df_test['income'],  # 실제값\n",
    "    y_pred = df_test['pred'],    # 예측값\n",
    "    labels = ['high', 'low']     # 클래스 배치 순서\n",
    ")\n",
    "\n",
    "conf_mat"
   ]
  },
  {
   "cell_type": "code",
   "execution_count": 110,
   "id": "2fb640e7-9a8a-467a-8c55-1151d9b31e2a",
   "metadata": {},
   "outputs": [
    {
     "data": {
      "text/plain": [
       "<sklearn.metrics._plot.confusion_matrix.ConfusionMatrixDisplay at 0x206b8572b40>"
      ]
     },
     "execution_count": 110,
     "metadata": {},
     "output_type": "execute_result"
    }
   ],
   "source": [
    "import matplotlib.pyplot as plt\n",
    "plt.rcParams.update(plt.rcParamsDefault)  # 그래프 설정 되돌리기\n",
    "\n",
    "from sklearn.metrics import ConfusionMatrixDisplay\n",
    "p = ConfusionMatrixDisplay(\n",
    "    confusion_matrix = conf_mat,  # 컨퓨전 매트스스\n",
    "    display_labels = ('high', 'low')  # 타겟 변수 클래스명\n",
    ")\n",
    "\n",
    "p.plot(cmap='Blues')  # 컬러맵 적용해 출력"
   ]
  },
  {
   "cell_type": "markdown",
   "id": "046f7cf0-1143-43bd-a88e-76690d2eeaa2",
   "metadata": {},
   "source": [
    "## 성능 평가 지표 구하기"
   ]
  },
  {
   "cell_type": "code",
   "execution_count": 113,
   "id": "9f3fe1ba-6249-4e30-8f69-2ef236347034",
   "metadata": {},
   "outputs": [
    {
     "data": {
      "text/plain": [
       "0.8453270549698024"
      ]
     },
     "execution_count": 113,
     "metadata": {},
     "output_type": "execute_result"
    }
   ],
   "source": [
    "# accuracy : 정확도\n",
    "import sklearn.metrics as metrics\n",
    "metrics.accuracy_score( \n",
    "    y_true = df_test['income'],  # 실제값\n",
    "    y_pred = df_test['pred']     # 예측값\n",
    ")"
   ]
  },
  {
   "cell_type": "code",
   "execution_count": 117,
   "id": "e048fc82-f559-4360-8ee7-0adcb0fea567",
   "metadata": {},
   "outputs": [
    {
     "data": {
      "text/plain": [
       "0.7576323987538941"
      ]
     },
     "execution_count": 117,
     "metadata": {},
     "output_type": "execute_result"
    }
   ],
   "source": [
    "# precision : 정밀도\n",
    "metrics.precision_score(\n",
    "    y_true = df_test['income'],\n",
    "    y_pred = df_test['pred'],\n",
    "    pos_label = 'high'\n",
    ")"
   ]
  },
  {
   "cell_type": "markdown",
   "id": "1a2e99ce-5c2f-4209-bf15-002a28d36100",
   "metadata": {},
   "source": [
    "75.5%입니다. 따라서 모델이  income을 high로 예측한 사람 중 75.5%가 실제로 high, 나머지 24.5%는 실제로 low인데 high로 잘못 분류한 것입니다"
   ]
  },
  {
   "cell_type": "code",
   "execution_count": 118,
   "id": "61fcf233-0d77-42d1-85a1-2003530a37ed",
   "metadata": {},
   "outputs": [
    {
     "data": {
      "text/plain": [
       "0.5201026518391788"
      ]
     },
     "execution_count": 118,
     "metadata": {},
     "output_type": "execute_result"
    }
   ],
   "source": [
    "# recall : 재현율\n",
    "# 실제 데이터에서 관심 클래스를 찾아낸 비율\n",
    "metrics.recall_score(\n",
    "    y_true = df_test['income'],\n",
    "    y_pred = df_test['pred'],\n",
    "    pos_label = 'high'\n",
    ")"
   ]
  },
  {
   "cell_type": "markdown",
   "id": "5ac6e392-9384-4fe9-a870-dc7955eacfc9",
   "metadata": {},
   "source": [
    "- 따라서 income이 high인 사람 중에서 51.3%를 모델이 high로 맞게 예측해서 찾아냈고, 나머지 48.7%는 low로 잘못 예측해서 놓친 것입니다"
   ]
  },
  {
   "cell_type": "code",
   "execution_count": 121,
   "id": "a5d55a27-1436-423e-b4fc-9efed25a74b5",
   "metadata": {},
   "outputs": [
    {
     "data": {
      "text/plain": [
       "0.6167892467664216"
      ]
     },
     "execution_count": 121,
     "metadata": {},
     "output_type": "execute_result"
    }
   ],
   "source": [
    "# f1score : 성능이 높을수록 1에 가까운 값\n",
    "# recall 과 precision을 곱해서 구하기 때문에 둘 중 하나라도 0이면 0이 됩니다\n",
    "\n",
    "metrics.f1_score(\n",
    "    y_true = df_test['income'],\n",
    "    y_pred = df_test['pred'],\n",
    "    pos_label = 'high'\n",
    ")"
   ]
  },
  {
   "cell_type": "markdown",
   "id": "2da67b25-37e2-4d67-bdca-3cf34f6f6568",
   "metadata": {},
   "source": [
    "- f1score은 recall과 precision을 고루 반영하고 클래스가 불균형해도 모델의 성능을 잘 나타내므로 여러 모델의 성능을 한가지 지표로\n",
    "비교해야 할 때 특히 자주 사용합니다."
   ]
  },
  {
   "cell_type": "markdown",
   "id": "fb1d2926-daf4-4dc0-83e3-687fdbee34ad",
   "metadata": {},
   "source": [
    "```\n",
    "어떤 성능 평가 지표를 사용해야 할까?\n",
    "\n",
    "성능 평가 지표는 특징이 서로 달라서 어떤 지표가 높더라도 다른 지표는 낮을 수 있습니다. 그러므로 모델을 사용하는 목적에 맞게 평가 기준으로 삼을 지표를 선택해야 합니다.\n",
    "accuracy는 모델의 일반적인 성능을 나타내므로 항상 살펴봐야 하고, 이에 더해 목적에 따라 precision 또는 recall 중 한 가지 이상을 함께 봐야 합니다.\n",
    "\n",
    "precision: 관심 클래스가 분명할 때\n",
    "- 모델을 사용하는 목적이 타겟 변수의 클래스 중에서 관심을 두는 한쪽 클래스를 정확하게 예측하는 것이라면 precision 기준으로 성능을 평가해야 합니다. 예를 들어\n",
    "고소득자를 예측해 고가의 제품을 홍보한다면 고소득자로 예측했을 때 얼마나 잘 맞는지 살펴봐야 합니다.\n",
    "\n",
    "recall : 관심 클래스를 최대한 많이 찾아내야 할 때\n",
    "모델을 사용하는 목적이 관심 클래스를 최대한 많이 찾아내는 것이라면 recall 기준으로 성능을 평가해야 합니다. 예를 들어 전염병에 감염된 사람을 최대한 많이 찾아내\n",
    "격리해야 한다면, 실제로 전염병에 감연된 사람 중에서 몇 퍼센트를 감연된 것으로 예측하는지 살펴봐야 합니다.\n",
    "\n",
    "관심 클래스로 예측해서 틀릴 때 손실 vs 관심 클래스를 놓칠 때 손실\n",
    "- 평가 기준으로 삼을 지표를 결정하는 또 다른 방법은 데이터를 관심 클래스로 예측해서 틀릴 때의 손실과 관심 클래스를 놓칠 때의 손실 중 무엇이 더 큰지를 놓고 판단하는 것입니다.\n",
    "데이터를 관심 클래스로 예측해서 틀릴 때 손실이 더 크면 precision, 반대로 관심 클래스를 놓칠 때 손실이 더 크면 recall을 평가 기준으로 사용하면 됩니다.\n",
    "```"
   ]
  },
  {
   "cell_type": "code",
   "execution_count": null,
   "id": "c705e6bd-38a3-4712-87f1-b587a14076a0",
   "metadata": {},
   "outputs": [],
   "source": []
  }
 ],
 "metadata": {
  "kernelspec": {
   "display_name": "Python 3 (ipykernel)",
   "language": "python",
   "name": "python3"
  },
  "language_info": {
   "codemirror_mode": {
    "name": "ipython",
    "version": 3
   },
   "file_extension": ".py",
   "mimetype": "text/x-python",
   "name": "python",
   "nbconvert_exporter": "python",
   "pygments_lexer": "ipython3",
   "version": "3.12.7"
  }
 },
 "nbformat": 4,
 "nbformat_minor": 5
}
