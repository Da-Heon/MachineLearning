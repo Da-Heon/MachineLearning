{
 "cells": [
  {
   "cell_type": "markdown",
   "id": "190ab554-533e-46b6-a6d0-65326e89726f",
   "metadata": {},
   "source": [
    "```\n",
    "사이킷런은 ML모델 학습을 위해서 fit(), 학습된 모델의 예측을 위해 predict() 메서드를 제공합니다\n",
    "지도학습의 주요 두 축인 분류(Classtification)와 회귀(Regreesion)의 다양한 알고리즘을 구현한 모든 사이킷런 클래스는 fit(), predict()만을 이용해\n",
    "간단하게 학습과 예측 결과를 반환합니다. 사이킷런에서는 분류 알고리즘을 구현한 클래스를 Classrifier로, 그리고 회귀 알고리즘을 구현한 클래스를 Regressor로 \n",
    "지칭합니다. 이들을 합쳐서 Estimator 클래스라고 부릅니다\n",
    "즉 지도학습의 모든 알고리즘을 구현한 클래스를 통칭해서 Estimator라고 부릅니다. 당연히 fit(), predict()를 내부에서 구현하고 있습니다\n",
    "\n",
    "비지도학습인 차원 축소, 클러스터링, 피처 추출 등을 구현한 클래스 역시 대부분 fit(), transform()을 적용합니다. 비지도학습과 피처 추출에서 fit()은 지도학습의\n",
    "fit()과 같이 학습을 의미하는 것이 아니라 입력 데이터의 형태에 맞춰서 데이터를 변환하기 위한 사전 구조를 맞추는 작업입니다.\n",
    "fit()으로 변환을 위한 사전 구조를 맞추면 이후 입력 데이터의 차원 변환, 클러스터링, 피처 추출 등의 실제 작업은 transform()으로 수행합니다.\n",
    "```"
   ]
  },
  {
   "cell_type": "markdown",
   "id": "43c91838-5d06-4358-8f33-f67c8c1a340b",
   "metadata": {},
   "source": [
    "# 주요 모델들"
   ]
  },
  {
   "cell_type": "markdown",
   "id": "eef79340-69de-4609-9055-5e6e6cdf3529",
   "metadata": {},
   "source": [
    "- 분류 데이타 : sklearn.datasets : 사이킷런에 내장되어 예제로 제공하는 데이터 세트\n",
    "- 피처 처리\n",
    "    - sklearn.preprocessing : 데이터 전처리에 필요한 다양한 가공 기능 제공(문자열을 숫자형 코드 값으로 인코딩, 정규화, 스케일링)\n",
    "    - sklearn.feature_selection : 알고리즘에 큰 영향을 미치는 피처를 우선순위대로 셀렉션 작업을 수행하는 다양한 기능 제공\n",
    "    - sklearn.feature_extraction : 텍스트 데이터나 이미지 데이터의 벡터화된 피처를 추출하는데 사용\n",
    "- 데이터 분리, 검증, 파라미터 튜팅 : sklearn.model_seleciton : 교차 검증을 위한 학습용/데스트용 분리, 그리드 서치로 최적 파라미터 추출\n",
    "- 평가 :  sklearn.metrics : 분류, 회귀, 클러스터링, 페어와이즈에 대한 다양한 성능 측정 방법 제공\n",
    "    - Accurancy, Precision, Recall, ROC-AUC, RMSE 등\n",
    "- ML 알고리즘\n",
    "    - sklearn.ensemble : 앙상블 알고리즘 제공\n",
    "    - sklearn.linear_model : 선형회귀, 릿지, 랏쏘 및 로지스틱 회귀 등 관련 알고리즘\n",
    "    - sklearn.svm : 서포트 벡터 머신 알고리즘\n",
    "    - sklearn.tree : 의사 결정 트리 알고리즘\n",
    "    - sklearn. cluster : 비지도 클러스터링 알고리즘"
   ]
  },
  {
   "cell_type": "markdown",
   "id": "97155b58-6d6b-4cbb-89dc-afc422d708af",
   "metadata": {},
   "source": [
    "```\n",
    "일반적으로 머신러닝 모델을 구축하는 주요 프로세스는 피처의 가공, 변경, 추출을 수행하는 피처 처리,ML 알고리즘 학습/예측 수행\n",
    ", 그리고 모델 평가의 단계를 반복적으로 수행하는 것입니다\n",
    "```"
   ]
  },
  {
   "cell_type": "markdown",
   "id": "07a4848e-f7e7-49a1-aec0-0bbed73a5b53",
   "metadata": {},
   "source": [
    "# 내장된 예제 데이터 세트"
   ]
  },
  {
   "cell_type": "markdown",
   "id": "68d42afc-7467-4cae-b3e9-a52bb8904e52",
   "metadata": {},
   "source": [
    "- datasets.load_boston() : 회귀 용도, 미국 보스턴의 집 피처들과 가격에 대한 데이터 세트\n",
    "- datasets.load_breast_cancer() : 분류 용도, 위스콘신 유방암 피처들과 양성/음성 레이블 데이터 세트\n",
    "- datasets.load_diabetes() : 회귀 용도, 당뇨 데이터 세트\n",
    "- datasets.load_digits() : 분류 용도, 0에서 9까지 숫자의 이미지 픽셀 데이터 세트\n",
    "- datasets.load_iris() : 분류 용도, 붓꽃 데이터"
   ]
  },
  {
   "cell_type": "markdown",
   "id": "3c7eab69-f6b1-4512-9d75-539d9b0589ba",
   "metadata": {},
   "source": [
    "### 분류와 클러스터링을 위한 표본 데이터 생성기"
   ]
  },
  {
   "cell_type": "markdown",
   "id": "941732f7-0263-4503-ab64-fb025e71e3b3",
   "metadata": {},
   "source": [
    "- datasets.make_classifications() : 분류를 위한 데이터 세트를 만듭니다. 특히 높은 상관도, 불필요한 속성 등의 노이즈 효과를 위한 데이터를 무작위로 생성\n",
    "- datasets.make_blobs() : 클러스터링을 위한 데이터 세트를 무작위로 생성. 군집 지정 개수에 따라 여러가지 클러스터링을 위한 데이터 세트 만들어줌"
   ]
  },
  {
   "cell_type": "markdown",
   "id": "7af2ad4f-25c6-48fb-a868-6585fe4f3174",
   "metadata": {},
   "source": [
    "```\n",
    "분류나 회귀를 위한 연습용 예제 데이터가 어떻게 구성되어 있는지 살펴보자\n",
    "사이킷런에 내장된 이 데이터 세트는 일반적으로 딕셔너리 형태이다\n",
    "키는 보통 data, target, target_name, feature_names, DESCR로 구성되어 있음\n",
    "\n",
    "- data는 피처의 데이터 세트를 가리킵니다. 넘파이 배열\n",
    "- target은 분류 시 레이블 값, 회귀일 때는 숫자 결괏값 데이터 세트입니다. 넘파이 배열\n",
    "- target_names는 개별 레이블의 이름을 나타냅니다. 넘파이 배열 또는 리스트\n",
    "- feature_names는 피처의 이름을 나타냅니다. 넘파이 배열 또는 리스트\n",
    "- DESCR은 데이터 세트에 대한 설명과 각 피처의 설명을 나타냅니다. 스트링 타입\n",
    "\n",
    "피처의 데이터 값을 반환받기 위해서는 내장 데이터 세트 API를 호출한 뒤 그 뒤 KEY 값을 지정하면 됩니다\n",
    "```"
   ]
  },
  {
   "cell_type": "code",
   "execution_count": 1,
   "id": "dba1c116-1bf8-4a08-a1f4-99ca347c026e",
   "metadata": {},
   "outputs": [
    {
     "name": "stdout",
     "output_type": "stream",
     "text": [
      "<class 'sklearn.utils._bunch.Bunch'>\n"
     ]
    }
   ],
   "source": [
    "from sklearn.datasets import load_iris\n",
    "\n",
    "iris_data = load_iris()\n",
    "print(type(iris_data))"
   ]
  },
  {
   "cell_type": "markdown",
   "id": "f4560b3d-aa99-4c90-aaf4-46d36140fc4d",
   "metadata": {},
   "source": [
    "- bunch 클래스는 파이썬 딕셔너리 자료형과 비슷합니다. 데이터 세트에 내장돼 있는 대부분의 데이터 세트는 이와 같이 딕셔너리 형태의 값을 반환\n",
    "- 데이터 세트의 key값을 확인해 보겠습니다"
   ]
  },
  {
   "cell_type": "code",
   "execution_count": 2,
   "id": "64371c3a-8642-4036-8fcb-8dedd044f65c",
   "metadata": {},
   "outputs": [
    {
     "data": {
      "text/plain": [
       "dict_keys(['data', 'target', 'frame', 'target_names', 'DESCR', 'feature_names', 'filename', 'data_module'])"
      ]
     },
     "execution_count": 2,
     "metadata": {},
     "output_type": "execute_result"
    }
   ],
   "source": [
    "keys = iris_data.keys()\n",
    "keys"
   ]
  },
  {
   "cell_type": "markdown",
   "id": "986f4b8c-9b13-414f-87fd-e8d69b9250f9",
   "metadata": {},
   "source": [
    "# Model Selection 모듈 소개"
   ]
  },
  {
   "cell_type": "markdown",
   "id": "1b34914c-07a6-47f4-9c60-01fc79e9a86a",
   "metadata": {},
   "source": [
    "## 학습/테스트 데이터 세트 분리 - train_test_split()"
   ]
  },
  {
   "cell_type": "markdown",
   "id": "5e9f8ff5-3fdd-4cca-8ae6-bb6da2d51472",
   "metadata": {},
   "source": [
    "- 먼저 테스트 데이터를 사용하지 않고 학습 데이터 세트로만 학습하고 예측하면 무엇이 문제인지 살표보자"
   ]
  },
  {
   "cell_type": "code",
   "execution_count": 3,
   "id": "855bc0cb-845e-4965-a8d8-8465e8d31298",
   "metadata": {},
   "outputs": [
    {
     "name": "stdout",
     "output_type": "stream",
     "text": [
      "예측 정확도: 1.0\n"
     ]
    }
   ],
   "source": [
    "from sklearn.datasets import load_iris\n",
    "from sklearn.tree import DecisionTreeClassifier\n",
    "from sklearn.metrics import accuracy_score\n",
    "\n",
    "iris = load_iris()\n",
    "\n",
    "#의사 결정 트리 클래스\n",
    "dt_clf = DecisionTreeClassifier()  # 분류모델을 변수에 지정\n",
    "train_data = iris.data\n",
    "train_label = iris.target\n",
    "dt_clf.fit(train_data, train_label)  # 지정된 변수에 파라미터로 훈련용 데이터와 피처를 대입)\n",
    "\n",
    "# 학습 데이터 세트으로 예측 수행\n",
    "pred = dt_clf.predict(train_data)\n",
    "print('예측 정확도:' , accuracy_score(train_label, pred))"
   ]
  },
  {
   "cell_type": "markdown",
   "id": "832d2406-12cf-4b82-9b07-d6b228dde77f",
   "metadata": {},
   "source": [
    "```\n",
    "예측 결과가 100% 나온 이유는 이미 학습한 데이터 세트를 기반으로 예측을 했기 때문입니다\n",
    "즉, 모의고사 이미 한 번 보고 답을 알고 있는 상태에서 모의고사 문제와 똑같은 본고사 문제가 출제됐기 때문입니다\n",
    "예측을 하는 데이터 세트는 학습을 수행한 학습용 데이터 세트가 아닌 전용의 테스트 세트여야 합니다\n",
    "```"
   ]
  },
  {
   "cell_type": "markdown",
   "id": "d08ef359-cc01-4937-8246-ec7f7b1fa8c8",
   "metadata": {},
   "source": [
    "- test_size : 전체 데이터에서 테스트 데이터 세트 크기를 얼마나 샘플링할 것인가를 결정합니다 보통 0.2 진행\n",
    "- train_size : 전체 데이터에서 학습용 데이터 세트 크기를 얼마로 샘플링할 걸인가를 결정합니다. 잘 사용하지 않음\n",
    "- shuffle : 데이터를 분리하기 전에 데이터를 미리 섞을지를 결정하며 디폴트 값은 True값\n",
    "- randoms_state : 호출할 때마다 동일한 학습/테스트용 데이터세트를 생성하기 위해 주어지는 난수 값, 호출 시 무작위로 데이터를 분리하므로 지정하지 않으면\n",
    "수행할 때마다 다른 학습/테스트 용 데이터를 생성\n",
    "- train_test_split() : 반환값은 튜플, 순차적으로 학습용 데이터 피처, 테스트용 피처, 학습용 레이블, 테스트용 레이츨로 반환"
   ]
  },
  {
   "cell_type": "code",
   "execution_count": 4,
   "id": "9e9ed316-b301-43f4-9252-433719e9b071",
   "metadata": {},
   "outputs": [],
   "source": [
    "from sklearn.tree import DecisionTreeClassifier\n",
    "from sklearn.metrics import accuracy_score\n",
    "from sklearn.datasets import load_iris\n",
    "from sklearn.model_selection import train_test_split\n",
    "\n",
    "df_clf = DecisionTreeClassifier()  # 변수에 모델 지정\n",
    "iris_data = load_iris()  # 데이터 불러오기\n",
    "\n",
    "X_train, X_test, y_train, y_test = train_test_split(\n",
    "    iris_data.data,\n",
    "    iris_data.target,\n",
    "    test_size=0.2,\n",
    "    random_state=14\n",
    ")"
   ]
  },
  {
   "cell_type": "markdown",
   "id": "c49c7d87-9de9-4c3c-83b3-42725954c4d1",
   "metadata": {},
   "source": [
    "- 학습 데이터를 기반으로 DecisionTreeClassifier를 학습하고 이 모델을 이용해 예측 정확도를 측정하자"
   ]
  },
  {
   "cell_type": "code",
   "execution_count": 5,
   "id": "8f8e2bba-ae2b-4981-9f00-d659c81bb26e",
   "metadata": {},
   "outputs": [
    {
     "name": "stdout",
     "output_type": "stream",
     "text": [
      "예측 정확도: 0.9666666666666667\n"
     ]
    }
   ],
   "source": [
    "df_clf.fit(X_train, y_train)  #  train데이터로 모델을 학습\n",
    "pred = df_clf.predict(X_test)  # test 데이터로 학습된 모델의 예측도를 변수에 지정\n",
    "print(f'예측 정확도: {accuracy_score(y_test, pred)}')  # y_test, pred의 정확도 측정"
   ]
  },
  {
   "cell_type": "markdown",
   "id": "6dfe38aa-0994-4752-8098-4641b4f458f9",
   "metadata": {},
   "source": [
    "- 정확도는 약 96%\n",
    "- 데이터셋이 많지 않아 성능 판단하기에는 적절하지 않음\n",
    "- 학습을 위한 데이터 양을 일정 수준이상으로 보장하는 것도 중요하지만, 학습된 모델에 대해 다양한 데이털르 기반으로 예측 성능을 평가해보는 것도 중요"
   ]
  },
  {
   "cell_type": "markdown",
   "id": "f705f57f-cfa5-45e0-acc7-a6f67e824884",
   "metadata": {},
   "source": [
    "# 교차 검증"
   ]
  },
  {
   "cell_type": "markdown",
   "id": "5426f416-72d4-4afd-b51b-dbb1dbe8fe35",
   "metadata": {},
   "source": [
    "- 알고리즘을 학습 시키는 데이터와 이에 대한 예측 성능을 평가하기 위한 별도의 테스트용 데이터가 필요하다고 했습니다\n",
    "- 하지만 이 방법 역시 과적합에 취약한 약점을 가지고 있습니다\n",
    "    - 과적합은 모델이 학습 데이터에만 과도하게 최적화되어, 실제 예측을 다른 데이터로 수행할 경우에는 예측 성능이 과도하게 떨어지는 것을 말함\n",
    "- 이러한 문제점을 개전하기 위해 교차 검증을 진행\n",
    "- 교차 검증은 좀 더 간략하게 설명하면 본고사를 치르기 전에 모의고사를 여러번 보는 것\n",
    "- 즉 모의고사 테스트 데이터 세트에 대해 평가하는 거라면, 모의고사는 교차 검증에서 많은 학습과 검증 세트에서 알고리즘 학습과 평가를 수행하는 것\n",
    "- 각 세트에서 수행한 평가 결과에 따라 하이퍼 파라미터 튜닝 등의 모델 최적화를 쉽게 할 수 있습니다"
   ]
  },
  {
   "cell_type": "markdown",
   "id": "c686d0cd-4a0c-48d7-abe0-43da982a8f9f",
   "metadata": {},
   "source": [
    "## K 폴드 교차 검증"
   ]
  },
  {
   "cell_type": "markdown",
   "id": "4fc26d51-79e2-480a-b170-49552d8f6ddb",
   "metadata": {},
   "source": [
    "- 가장 보편적으로 사용되는 교차 검증 기법\n",
    "- 먼저 k개의 데이터 폴드 세트를 만들어서 k번 만큼 각 폴트 세트에 학습과 검증 평가를 반복적으로 수행\n",
    "- k가 5라면?\n",
    "    - 먼저 데이터 세트를 5등분\n",
    "    - 그리고 첫 번째 반복에서는 처음부터 4개 등분을 학습 데이터 세트, 마지막 5번째 등분 하나를 검증 데이터로 설정\n",
    "    - 첫 번째 평가를 수행하고 나면 이제 두 번째 반복에서 다시 비슷한 학습과 평가 작업을 수행\n",
    "    - 단, 이번에는 학습 데이터와 검증 데이터를 변경합니다\n",
    "- 이렇게 학습 데이터와 검증 데이터 세트를 검직적으로 변경함녀서 마지막 5번째까지 학습과 검증을 수행하느 것이 바로 k 폴드 교차 검증입니다\n",
    "- 5개의 예측 평가를 구했으면 이를 평균해서 k 폴드 평가 결과로 반영"
   ]
  },
  {
   "cell_type": "markdown",
   "id": "4b8fbb37-2348-4437-9346-e07c57287b94",
   "metadata": {},
   "source": [
    "### 교차 검증을 이용한 붓꽃 데이터 세트 정확도 구하기"
   ]
  },
  {
   "cell_type": "code",
   "execution_count": 6,
   "id": "abb367cf-93bb-4281-9737-5cd2e3da2b45",
   "metadata": {},
   "outputs": [
    {
     "name": "stdout",
     "output_type": "stream",
     "text": [
      "붓꽃 데이터 세트 크기 150\n"
     ]
    }
   ],
   "source": [
    "from sklearn.tree import DecisionTreeClassifier\n",
    "from sklearn.metrics import accuracy_score\n",
    "from sklearn.model_selection import KFold\n",
    "\n",
    "import numpy as np\n",
    "\n",
    "iris = load_iris()  # 데이터 로드\n",
    "features = iris.data  # 데이터 값 저장\n",
    "label = iris.target  # 타겟값 저장\n",
    "df_clf = DecisionTreeClassifier(random_state=37)  # 모델 클래스 저장\n",
    "\n",
    "# 5개의 폴드 세트로 분리하는 kfold 객체와 폴드 세트별 정확도를 담을 리스트 객체 생성\n",
    "kfold = KFold(n_splits=5)\n",
    "cv_accuracy = []\n",
    "print('붓꽃 데이터 세트 크기', features.shape[0])"
   ]
  },
  {
   "cell_type": "code",
   "execution_count": 7,
   "id": "6a6ae7d4-d435-4a58-b488-65fc557b6f3e",
   "metadata": {},
   "outputs": [
    {
     "data": {
      "text/plain": [
       "array([0, 0, 0, 0, 0, 0, 0, 0, 0, 0, 0, 0, 0, 0, 0, 0, 0, 0, 0, 0, 0, 0,\n",
       "       0, 0, 0, 0, 0, 0, 0, 0, 0, 0, 0, 0, 0, 0, 0, 0, 0, 0, 0, 0, 0, 0,\n",
       "       0, 0, 0, 0, 0, 0, 1, 1, 1, 1, 1, 1, 1, 1, 1, 1, 1, 1, 1, 1, 1, 1,\n",
       "       1, 1, 1, 1, 1, 1, 1, 1, 1, 1, 1, 1, 1, 1, 1, 1, 1, 1, 1, 1, 1, 1,\n",
       "       1, 1, 1, 1, 1, 1, 1, 1, 1, 1, 1, 1, 2, 2, 2, 2, 2, 2, 2, 2, 2, 2,\n",
       "       2, 2, 2, 2, 2, 2, 2, 2, 2, 2, 2, 2, 2, 2, 2, 2, 2, 2, 2, 2, 2, 2,\n",
       "       2, 2, 2, 2, 2, 2, 2, 2, 2, 2, 2, 2, 2, 2, 2, 2, 2, 2])"
      ]
     },
     "execution_count": 7,
     "metadata": {},
     "output_type": "execute_result"
    }
   ],
   "source": [
    "label"
   ]
  },
  {
   "cell_type": "markdown",
   "id": "7d63691e-681a-40a4-a8d3-726d958aa04d",
   "metadata": {},
   "source": [
    "```\n",
    "kfold 객체를 생성했으니 이제 생성된 kfold 객체의 split() 을 호출해서 전체 붓꽃 데이터를 5개의 폴드 데이터 세트로 분리하자\n",
    "전체는 150개, 따라서 학습용 데이터 세트는 이 중 4/5인 120개, 검증 데이터 세트는 1/5인 30개로 분할합니다\n",
    "kfold 객체는 split()을 호출하면 학습용/검증용 데이터로 분할할 수 있는 인덱스를 반환합니다\n",
    "실제로 학습용/검증용 데이터 추출은 반환된 인덱스를 기반으로 개발 코드에서 직접 수행햐야 합니다\n",
    "```"
   ]
  },
  {
   "cell_type": "code",
   "execution_count": 8,
   "id": "38f10f2b-a2f4-40e5-9d13-35d68f45d7d2",
   "metadata": {},
   "outputs": [
    {
     "name": "stdout",
     "output_type": "stream",
     "text": [
      "\n",
      "#1 교차 검증 정확도 : 1.0, 학습 데이터 크기: 120, 검증 데이터 크기: 30\n",
      "#1 검증 인덱스: [ 0  1  2  3  4  5  6  7  8  9 10 11 12 13 14 15 16 17 18 19 20 21 22 23\n",
      " 24 25 26 27 28 29]\n",
      "\n",
      "#2 교차 검증 정확도 : 0.9667, 학습 데이터 크기: 120, 검증 데이터 크기: 30\n",
      "#2 검증 인덱스: [30 31 32 33 34 35 36 37 38 39 40 41 42 43 44 45 46 47 48 49 50 51 52 53\n",
      " 54 55 56 57 58 59]\n",
      "\n",
      "#3 교차 검증 정확도 : 0.8333, 학습 데이터 크기: 120, 검증 데이터 크기: 30\n",
      "#3 검증 인덱스: [60 61 62 63 64 65 66 67 68 69 70 71 72 73 74 75 76 77 78 79 80 81 82 83\n",
      " 84 85 86 87 88 89]\n",
      "\n",
      "#4 교차 검증 정확도 : 0.9333, 학습 데이터 크기: 120, 검증 데이터 크기: 30\n",
      "#4 검증 인덱스: [ 90  91  92  93  94  95  96  97  98  99 100 101 102 103 104 105 106 107\n",
      " 108 109 110 111 112 113 114 115 116 117 118 119]\n",
      "\n",
      "#5 교차 검증 정확도 : 0.7333, 학습 데이터 크기: 120, 검증 데이터 크기: 30\n",
      "#5 검증 인덱스: [120 121 122 123 124 125 126 127 128 129 130 131 132 133 134 135 136 137\n",
      " 138 139 140 141 142 143 144 145 146 147 148 149]\n",
      "\n",
      "## 평균 검증 정확도: 0.8933199999999999\n"
     ]
    }
   ],
   "source": [
    "n_iter = 0\n",
    "\n",
    "# kfold 객체의 split()를 호출하면 폴드별 학습용,검증용 테스트의 로우 인덱스를 array로 반환\n",
    "for train_index, test_index in kfold.split(features):\n",
    "    # kfold.split()으로 반환된 인덱스를 이용해 학습용, 검증용 테스트 데이트 추출\n",
    "    X_train, X_test = features[train_index], features[test_index]\n",
    "    y_train, y_test = label[train_index], label[test_index]\n",
    "\n",
    "    # 학습 및 에측\n",
    "    df_clf.fit(X_train, y_train)\n",
    "    pred = df_clf.predict(X_test)\n",
    "    n_iter += 1\n",
    "\n",
    "    # 반복 시 마다 정확도 측정\n",
    "    accuracy = np.round(accuracy_score(y_test, pred),4)\n",
    "    train_size = X_train.shape[0]\n",
    "    test_size = X_test.shape[0]\n",
    "    print('\\n#{0} 교차 검증 정확도 : {1}, 학습 데이터 크기: {2}, 검증 데이터 크기: {3}'.format(n_iter, accuracy, train_size, test_size))\n",
    "    print('#{0} 검증 인덱스: {1}'.format(n_iter, test_index))\n",
    "    cv_accuracy.append(accuracy)\n",
    "\n",
    "# 개별 iteraction 별 정확도를 합하여 평균 정확도 계산\n",
    "print('\\n## 평균 검증 정확도:', np.mean(cv_accuracy))"
   ]
  },
  {
   "cell_type": "markdown",
   "id": "7d99704e-199c-48c8-a8b5-366f344609da",
   "metadata": {},
   "source": [
    "- 검증 결과 평균 검증 정확도는 0.8\n",
    "- 교차 검증 시마다 검증 세트의 인덱스가 달라짐을 알 수 있습니다\n",
    "- 학습 데이터 세트의 인덱스는 수가 많아서 출력하지 않았지만 검증 세트의 인덱스를 보면 교차 검증 시마다 split() 함수가 어떻게 인덱스를 할당하는지 알 수 있습니다"
   ]
  },
  {
   "cell_type": "markdown",
   "id": "b4181dc3-8d11-440f-a17f-bdf7a75bc786",
   "metadata": {},
   "source": [
    "## Stratified k 폴드"
   ]
  },
  {
   "cell_type": "markdown",
   "id": "9ffd26b8-a93d-4f22-9c6a-3cba174f2591",
   "metadata": {},
   "source": [
    "- 불균형한 분포도를 가진 레이블 데이터 집합을 위한 k 폴드 방식입니다\n",
    "- 불균형한 분포도를 가진 레이블 데이터 집합은 특정 레이블 값이 특이하게 많거나 매우 적어서 값의 분포가 한쪽으로 치우치는 것을 말합니다\n",
    "-작은 비율로 1 레이블 값이 있다면 k 폴드로 랜덤하게 학습 및 테스트 세트의 인덱스를 고르더라도 레이블 값인 0과 1의 비율을 제대로 반영하지 못하는 경우가 생깁니다\n",
    "- 즉 레이블 값으로 1이 특정 개별 반복별 학습/테스트 데이터 세트에서 상대적으로 많이 들어 있고, 다른 반복 학습/테스트 세트에는 그렇지 못한 결과가 발생 합니다\n",
    "- 따라서 원본 데이터와 유사한 대출 사기 레이블 값의 분포를 학습/테스트 세트에도 유지하는 게 매우 중요합니다"
   ]
  },
  {
   "cell_type": "markdown",
   "id": "033ed3c7-7922-4010-a9c3-847de7235397",
   "metadata": {},
   "source": [
    "```\n",
    "Stratified k 폴드는 이처럼 k 폴드가 레이블 데이터 집합이 원본 데이터 집합의 레이블 분포를 학습 및 테스트 세트에 제대로 분배하지 못하는 경우의\n",
    "문제를 해결해 줍니다. 이를 위해 Stratified는 원본 데이터의 레이블 분포를 먼저 고려한 뒤 이 분포와 동일하게 학습과 검증 데이터 세트를 분배합니다.\n",
    "```"
   ]
  },
  {
   "cell_type": "markdown",
   "id": "525c3caf-f821-4379-ab96-302ec4dee6cb",
   "metadata": {},
   "source": [
    "# 교차 검증을 보다 간편하게: cross_val_score()"
   ]
  },
  {
   "cell_type": "markdown",
   "id": "b489ed66-733a-4834-8650-05f39d4b7574",
   "metadata": {},
   "source": [
    "```\n",
    "사이킷런 교차 검증을 좀 더 편리하게 수행할 수 있게 해주는 API를 제공합니다\n",
    "대표적인 것이 cross_val_score()입니다. kfold로 데이터를 학습하고 예측하는 코드를 보면 먼저 폴드 세트를 설정하고 \n",
    "for 루프에서 반복으로 학습 및 테스트 데이터의 인덱스를 추출한 뒤\n",
    "반복적으로 학습과 예측을 수행하고 성능을 반환했습니다\n",
    "cross_val_score()는 이런 일련의 과정을 한꺼번에 수행해주는 API입니다.\n",
    "estimator는 사이킷런의 분류 알고리즘 클래스인 Classifier 또는 회귀 알고리즘 클래스인 Regressor를 의미하고, X는 피터 데이터 세트, y는 레이블 데이터 세트\n",
    "scoring은 예측 성능 평가 파라미터로 지정된 성능 지표 측정값을 배열 형태로 반환합니다\n",
    "cross_val_score() 수행 후 반환 값은 scoring 파라미터면 stratidied k 폴드 방식으로 레이블값의 분포에 따라 학습/테스트 세트를 분할합니다(회귀는 k 폴드 방식으로 진행)\n",
    "다음 코드에서 cross_val_score()의 사용법을 알아보자 교차 검증 폴드 수는 3, 성능 평가 지표는 정확도인 accuracy로 하겠습니다\n",
    "    \n",
    "```"
   ]
  },
  {
   "cell_type": "code",
   "execution_count": 12,
   "id": "2bc964f8-7eb2-4279-945f-434356cb4e07",
   "metadata": {},
   "outputs": [
    {
     "name": "stdout",
     "output_type": "stream",
     "text": [
      "교차 검증별 정확도: [0.98 0.94 0.98]\n",
      "평균 검증 정확도: 0.9667\n"
     ]
    }
   ],
   "source": [
    "# 라이브러리 불러오기\n",
    "from sklearn.tree import DecisionTreeClassifier\n",
    "from sklearn.model_selection import cross_val_score, cross_validate\n",
    "from sklearn.datasets import load_iris\n",
    "\n",
    "iris_data = load_iris()  # 데이터 로드\n",
    "dt_clf = DecisionTreeClassifier(random_state=50)  # 모델 클래스 불러오기\n",
    "\n",
    "data = iris_data.data\n",
    "label = iris_data.target\n",
    "\n",
    "# 성능 지표 정확도, 교차 검증 세트는 3개\n",
    "score = cross_val_score(dt_clf, data, label, scoring='accuracy', cv=3)\n",
    "print('교차 검증별 정확도:', np.round(score,4))\n",
    "print('평균 검증 정확도:', np.round(np.mean(score), 4))"
   ]
  },
  {
   "cell_type": "markdown",
   "id": "c38fe315-dc69-4e41-8757-7ba08f005eba",
   "metadata": {},
   "source": [
    "- cross_val_score()는 cv로 지정된 횟수만큼 scoring 파라미터로 지정된 평가 지표로 평가 결괏값을 배열로 반환합니다\n",
    "그리고 일반적으로 이를 평균해 평가 수치로 사용합니다\n",
    "    - cross_val_score()는 내부에서 학습(fit), 예측(predict), 평가 시켜주므로 간단하게 교차 검증을 수행할 수 있습니다\n",
    "    - 붓꽃 데이터의 cross_val_score() 수행 결과와 앞예제의 붓꽃 데이터의 수행 결과를 비교해 보면 각 교차 검증별 정확도와 평균 검증 정확도가 모두 동일함을 알 수 있습니다\n",
    "    - cross_val_score()가 내부적으로 stratifiedkfold를 이용하기 때문입니다\n",
    "- cross_validate()가 있습니다\n",
    "    - 여러개의 평가 지표를 반환할 수 있습니다\n",
    "    - 또한 학습 데이터에 대한 성능 평가 지표와 수행 시간도 같이 제공합니다\n",
    "    - 그러나 보통 cross_val_score() 하나라도 대부분의 경우 쉽게 사용합니다"
   ]
  },
  {
   "cell_type": "markdown",
   "id": "cad8eb0b-e251-41a7-84f6-b493b9be0d55",
   "metadata": {},
   "source": [
    "# GridSearchCV - 교차 검증과 최적 파라미터 튜닝을 한번에"
   ]
  },
  {
   "cell_type": "markdown",
   "id": "ffc07173-97fd-47dd-a7a6-b1868397205a",
   "metadata": {},
   "source": [
    "- 하이퍼 파라미터는 머신러닝 알고리즘을 구성하는 주요 구성 요소이며, 이 값을 조정해 알고리즘의 예측 성능을 개선할 수 있습니다\n",
    "- 순차적으로 입력하면 편리하게 최적의 파라미터를 도출할 수 있습니다\n",
    "- Grid는 격자라는 뜻으로, 촘촘하게 파라미터를 입력하면서 테스트를 하는 방식"
   ]
  },
  {
   "cell_type": "markdown",
   "id": "f178bf15-22a1-4afc-ae46-72a83b6d0366",
   "metadata": {},
   "source": [
    "- 결정 트리 알고리즘의 여러 가지 최적화 파라미터를 순차적으로 적용해 붓꽃데이터를 예측 분석하는데 GridSearchCV를 이용해보자"
   ]
  },
  {
   "cell_type": "markdown",
   "id": "f3ce90c1-062c-462a-9537-2d5cb1a3ee44",
   "metadata": {},
   "source": [
    "- train_test_split()를 이용해 학습 데이터와 테스트 데이터를 먼저 분리하고 학습 데이터에서 최적의 파라미터를 추출하겠습니다\n",
    "- 결정 트리 알고리즘을 구현한 DesisionTreeClassifier의 중요 하이퍼 파라미터인 max_depth와 min_samples_split의 값을 변화 시키면서\n",
    "최적화를 진행해보겠습니다\n",
    "- 티스트할 하이퍼 파라미터 세트는 딕셔너리 형태로 하이퍼 파라미터의 명칭은 문자열 Key, 하이퍼 파라미터의 값은 리스트 형으로 설정합니다"
   ]
  },
  {
   "cell_type": "code",
   "execution_count": 15,
   "id": "14fb5f72-3225-45ce-8f1a-6ca5e59b8158",
   "metadata": {},
   "outputs": [],
   "source": [
    "from sklearn.datasets import load_iris\n",
    "from sklearn.tree import DecisionTreeClassifier\n",
    "from sklearn.model_selection import GridSearchCV\n",
    "\n",
    "# 데이터를 로딩하고 학습 데이터와 테스트 데이터 분리\n",
    "iris_data = load_iris()\n",
    "X_train, X_test, y_train, y_test = train_test_split(\n",
    "    iris_data.data, \n",
    "    iris_data.target, \n",
    "    test_size=0.2, \n",
    "    random_state=13\n",
    ")\n",
    "\n",
    "dtree = DecisionTreeClassifier()\n",
    "\n",
    "# 파라미터를 딕셔너리 형태로 설정\n",
    "parameters = {\n",
    "    'max_depth' : [1, 2, 3],\n",
    "    'min_samples_split' : [2, 3]\n",
    "}"
   ]
  },
  {
   "cell_type": "markdown",
   "id": "d9ff492c-97b1-4eb7-b980-768576f1c137",
   "metadata": {},
   "source": [
    "- 학습 데이터 세트를 GridSearchCV 객체의 fit(학습 데이터 세트) 메서드에 인자로 입력합니다\n",
    "- fit 메스드를 수행하면 학습 데이터를 cv에 기술된 폴딩 세트로 분할해 param_grid에 기술된 하이퍼 파라미터를 순차적으로 변경하면서 학습/평가를 수행하고\n",
    "- 그 결과를 cv_result_ 속성에 기록합니다\n",
    "    - cv_result_의 결과 세트로서 딕셔너리 형태로 Key 값과 리스트 형태의 value 값을 가집니다\n",
    "- 주요 컬럼만 발취해서 어떻게 GridSearchCV가 동작하는지 알아보겠습니다"
   ]
  },
  {
   "cell_type": "code",
   "execution_count": 16,
   "id": "c575ed08-e705-4ce0-a7f5-566eaca3000c",
   "metadata": {},
   "outputs": [],
   "source": [
    "import pandas as pd\n",
    "\n",
    "# params_grid의 하이퍼 파라미터를 3개의 train, test set fold로 나누어 테스트 수행 설정\n",
    "grid_dtree = GridSearchCV(dtree, param_grid=parameters, cv=3, refit=True)"
   ]
  },
  {
   "cell_type": "code",
   "execution_count": 19,
   "id": "87f660c6-7f4d-460d-9b59-0404893d161f",
   "metadata": {},
   "outputs": [
    {
     "data": {
      "text/html": [
       "<div>\n",
       "<style scoped>\n",
       "    .dataframe tbody tr th:only-of-type {\n",
       "        vertical-align: middle;\n",
       "    }\n",
       "\n",
       "    .dataframe tbody tr th {\n",
       "        vertical-align: top;\n",
       "    }\n",
       "\n",
       "    .dataframe thead th {\n",
       "        text-align: right;\n",
       "    }\n",
       "</style>\n",
       "<table border=\"1\" class=\"dataframe\">\n",
       "  <thead>\n",
       "    <tr style=\"text-align: right;\">\n",
       "      <th></th>\n",
       "      <th>params</th>\n",
       "      <th>mean_test_score</th>\n",
       "      <th>rank_test_score</th>\n",
       "      <th>split0_test_score</th>\n",
       "      <th>split1_test_score</th>\n",
       "      <th>split2_test_score</th>\n",
       "    </tr>\n",
       "  </thead>\n",
       "  <tbody>\n",
       "    <tr>\n",
       "      <th>0</th>\n",
       "      <td>{'max_depth': 1, 'min_samples_split': 2}</td>\n",
       "      <td>0.691667</td>\n",
       "      <td>5</td>\n",
       "      <td>0.675</td>\n",
       "      <td>0.700</td>\n",
       "      <td>0.70</td>\n",
       "    </tr>\n",
       "    <tr>\n",
       "      <th>1</th>\n",
       "      <td>{'max_depth': 1, 'min_samples_split': 3}</td>\n",
       "      <td>0.691667</td>\n",
       "      <td>5</td>\n",
       "      <td>0.675</td>\n",
       "      <td>0.700</td>\n",
       "      <td>0.70</td>\n",
       "    </tr>\n",
       "    <tr>\n",
       "      <th>2</th>\n",
       "      <td>{'max_depth': 2, 'min_samples_split': 2}</td>\n",
       "      <td>0.933333</td>\n",
       "      <td>3</td>\n",
       "      <td>0.925</td>\n",
       "      <td>0.925</td>\n",
       "      <td>0.95</td>\n",
       "    </tr>\n",
       "    <tr>\n",
       "      <th>3</th>\n",
       "      <td>{'max_depth': 2, 'min_samples_split': 3}</td>\n",
       "      <td>0.933333</td>\n",
       "      <td>3</td>\n",
       "      <td>0.925</td>\n",
       "      <td>0.925</td>\n",
       "      <td>0.95</td>\n",
       "    </tr>\n",
       "    <tr>\n",
       "      <th>4</th>\n",
       "      <td>{'max_depth': 3, 'min_samples_split': 2}</td>\n",
       "      <td>0.941667</td>\n",
       "      <td>1</td>\n",
       "      <td>0.950</td>\n",
       "      <td>0.925</td>\n",
       "      <td>0.95</td>\n",
       "    </tr>\n",
       "    <tr>\n",
       "      <th>5</th>\n",
       "      <td>{'max_depth': 3, 'min_samples_split': 3}</td>\n",
       "      <td>0.941667</td>\n",
       "      <td>1</td>\n",
       "      <td>0.950</td>\n",
       "      <td>0.925</td>\n",
       "      <td>0.95</td>\n",
       "    </tr>\n",
       "  </tbody>\n",
       "</table>\n",
       "</div>"
      ],
      "text/plain": [
       "                                     params  mean_test_score  rank_test_score  \\\n",
       "0  {'max_depth': 1, 'min_samples_split': 2}         0.691667                5   \n",
       "1  {'max_depth': 1, 'min_samples_split': 3}         0.691667                5   \n",
       "2  {'max_depth': 2, 'min_samples_split': 2}         0.933333                3   \n",
       "3  {'max_depth': 2, 'min_samples_split': 3}         0.933333                3   \n",
       "4  {'max_depth': 3, 'min_samples_split': 2}         0.941667                1   \n",
       "5  {'max_depth': 3, 'min_samples_split': 3}         0.941667                1   \n",
       "\n",
       "   split0_test_score  split1_test_score  split2_test_score  \n",
       "0              0.675              0.700               0.70  \n",
       "1              0.675              0.700               0.70  \n",
       "2              0.925              0.925               0.95  \n",
       "3              0.925              0.925               0.95  \n",
       "4              0.950              0.925               0.95  \n",
       "5              0.950              0.925               0.95  "
      ]
     },
     "execution_count": 19,
     "metadata": {},
     "output_type": "execute_result"
    }
   ],
   "source": [
    "# 붓꽃 학습 데이터로 param_grid의 하이퍼 파라미터를 순차적으로 학습/평가\n",
    "grid_dtree.fit(X_train, y_train)\n",
    "\n",
    "# GridSearchCV 결과를 추출해 DATAFRAME으로 변환\n",
    "score_df = pd.DataFrame(grid_dtree.cv_results_)\n",
    "score_df[[\n",
    "    'params', 'mean_test_score', 'rank_test_score', 'split0_test_score', 'split1_test_score', 'split2_test_score'\n",
    "]]"
   ]
  },
  {
   "cell_type": "code",
   "execution_count": 22,
   "id": "3b95e738-c611-4944-bcfd-5c8dbc69cc8e",
   "metadata": {},
   "outputs": [
    {
     "data": {
      "text/html": [
       "<div>\n",
       "<style scoped>\n",
       "    .dataframe tbody tr th:only-of-type {\n",
       "        vertical-align: middle;\n",
       "    }\n",
       "\n",
       "    .dataframe tbody tr th {\n",
       "        vertical-align: top;\n",
       "    }\n",
       "\n",
       "    .dataframe thead th {\n",
       "        text-align: right;\n",
       "    }\n",
       "</style>\n",
       "<table border=\"1\" class=\"dataframe\">\n",
       "  <thead>\n",
       "    <tr style=\"text-align: right;\">\n",
       "      <th></th>\n",
       "      <th>mean_fit_time</th>\n",
       "      <th>std_fit_time</th>\n",
       "      <th>mean_score_time</th>\n",
       "      <th>std_score_time</th>\n",
       "      <th>param_max_depth</th>\n",
       "      <th>param_min_samples_split</th>\n",
       "      <th>params</th>\n",
       "      <th>split0_test_score</th>\n",
       "      <th>split1_test_score</th>\n",
       "      <th>split2_test_score</th>\n",
       "      <th>mean_test_score</th>\n",
       "      <th>std_test_score</th>\n",
       "      <th>rank_test_score</th>\n",
       "    </tr>\n",
       "  </thead>\n",
       "  <tbody>\n",
       "    <tr>\n",
       "      <th>0</th>\n",
       "      <td>0.005326</td>\n",
       "      <td>0.003789</td>\n",
       "      <td>0.000991</td>\n",
       "      <td>0.001402</td>\n",
       "      <td>1</td>\n",
       "      <td>2</td>\n",
       "      <td>{'max_depth': 1, 'min_samples_split': 2}</td>\n",
       "      <td>0.675</td>\n",
       "      <td>0.7</td>\n",
       "      <td>0.7</td>\n",
       "      <td>0.691667</td>\n",
       "      <td>0.011785</td>\n",
       "      <td>5</td>\n",
       "    </tr>\n",
       "  </tbody>\n",
       "</table>\n",
       "</div>"
      ],
      "text/plain": [
       "   mean_fit_time  std_fit_time  mean_score_time  std_score_time  \\\n",
       "0       0.005326      0.003789         0.000991        0.001402   \n",
       "\n",
       "   param_max_depth  param_min_samples_split  \\\n",
       "0                1                        2   \n",
       "\n",
       "                                     params  split0_test_score  \\\n",
       "0  {'max_depth': 1, 'min_samples_split': 2}              0.675   \n",
       "\n",
       "   split1_test_score  split2_test_score  mean_test_score  std_test_score  \\\n",
       "0                0.7                0.7         0.691667        0.011785   \n",
       "\n",
       "   rank_test_score  \n",
       "0                5  "
      ]
     },
     "execution_count": 22,
     "metadata": {},
     "output_type": "execute_result"
    }
   ],
   "source": [
    "score_df.head(1)"
   ]
  },
  {
   "cell_type": "markdown",
   "id": "1f3d2b6d-28c4-4451-aa22-645157048c28",
   "metadata": {},
   "source": [
    "- 총 6개의 결과를 볼 수 있으며, 이는 하이퍼 파라미터 max_depth와 min_samples_split을 순차적으로 총 6번 변경하면서 학습 및 평가를 수행했음을 나타냅니다\n",
    "- params 컬럼에는 수행할 때마다 적용된 하이퍼 파라미터값을 가지고 있습니다.\n",
    "- 맨 마지막에서 두 번째 행(인덱스 번호)을 보면 rank_test_score 컬럼 값이 1입니다. 이는 해당 하이퍼 파라미터의 조합인 max_depth:3,min_samples_split:2로\n",
    "평가한 결과 예측 성능이 1위라는 의미입니다.\n",
    "- params 칼럼에는 수행할 때마다 적용된 개별 하이퍼 파라미터값을 나타냅니다.\n",
    "- rank_test_score는 하이퍼 파라미터별로 성능이 좋은 score 순위를 나타냅니다. 1이 가장 뛰어난 순위이며 이때의 파라미터가 최적의 파라미터 입니다.\n",
    "- mean_test_score는 개별 하이퍼 파라미터별로 cv의 폴딩 테스트 세트에 대해 총 수행한 평가 평균값입니다."
   ]
  },
  {
   "cell_type": "markdown",
   "id": "c5329a55-0681-41f8-b58e-81040970f261",
   "metadata": {},
   "source": [
    "- GridSearchCV 객체의 fit()을 수행하면 최고 성능을 나타낸 하이퍼 파라미터의 값과 그때의 평가 결과 값이 각각\n",
    "- best_parmas_, best_score_ 속성에 기록됩니다. 즉 cv_result_의 rank_test_score가 1일 때의 값입니다.\n",
    "- 이 속성을 이용해 최적 하이퍼 파라미터의 값과 그 때의 정확도를 알아보겠습니다."
   ]
  },
  {
   "cell_type": "code",
   "execution_count": 25,
   "id": "be826103-497d-4059-8676-70ae6f5de21e",
   "metadata": {},
   "outputs": [
    {
     "name": "stdout",
     "output_type": "stream",
     "text": [
      "GridSearchCV 최적 파라미터: {'max_depth': 3, 'min_samples_split': 2}\n",
      "GridSearchCV 최고 정확도:0.9417\n"
     ]
    }
   ],
   "source": [
    "print('GridSearchCV 최적 파라미터:', grid_dtree.best_params_ )\n",
    "print('GridSearchCV 최고 정확도:{0:.4f}'.format(grid_dtree.best_score_))"
   ]
  },
  {
   "cell_type": "markdown",
   "id": "fb5492b5-a3f0-465f-965e-50d2258de430",
   "metadata": {},
   "source": [
    "- max_depth가 3, min_samples_split 2일 떄 검증용 폴드 세트에서 평균 최고 정확도가 97.50%로 측정됐습니다\n",
    "- ridSearchCV 객체의 생성 파라미터 refit=True가 디폴트입니다. ridSearchCV가 최적 성능을 나타내는 하이퍼 파라미터로 Estimator를 학습해\n",
    "best_estimator_로 저장합니다.\n",
    "- 이미 학습된 best_estimator_를 이용해 앞에서 train_test_split()으로 분리한 테스트 데이터 세트에 대해 예측하고 성능을 평가했습니다."
   ]
  },
  {
   "cell_type": "code",
   "execution_count": 27,
   "id": "f980fa68-707c-48eb-bd43-52d06434c275",
   "metadata": {},
   "outputs": [
    {
     "name": "stdout",
     "output_type": "stream",
     "text": [
      "테스트 데이터 세트 정확도: 0.9333\n"
     ]
    }
   ],
   "source": [
    "# GridSearchCV의 refit으로 이미 학습된 estimator 반환\n",
    "estimator = grid_dtree.best_estimator_\n",
    "\n",
    "# GridSearchCV의 best_estimator_는 이미 최적 학습이 됐으므로 별도 학습이 필요 없음\n",
    "pred = estimator.predict(X_test)\n",
    "print('테스트 데이터 세트 정확도: {0:.4f}'.format(accuracy_score(y_test, pred)))"
   ]
  },
  {
   "cell_type": "code",
   "execution_count": null,
   "id": "d63ec315-3d92-4793-b073-05e0632389bc",
   "metadata": {},
   "outputs": [],
   "source": [
    "- 별도의 테스트 데이터 세트로 정확도를 측정한 결과 약 93.33%의  결과가 도출됐습니다.\n",
    "- 일반적으로 학습 데이터를 GridSearchCV를 이용해 하이퍼 파라미터 튜닝을 수행한 뒤에 별도의 테스트 세트에서 이를 평가하는 것이 일반적인 머신러닝 모델 적용 방법입니다."
   ]
  }
 ],
 "metadata": {
  "kernelspec": {
   "display_name": "Python 3 (ipykernel)",
   "language": "python",
   "name": "python3"
  },
  "language_info": {
   "codemirror_mode": {
    "name": "ipython",
    "version": 3
   },
   "file_extension": ".py",
   "mimetype": "text/x-python",
   "name": "python",
   "nbconvert_exporter": "python",
   "pygments_lexer": "ipython3",
   "version": "3.12.7"
  }
 },
 "nbformat": 4,
 "nbformat_minor": 5
}
